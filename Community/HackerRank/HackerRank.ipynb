{
 "cells": [
  {
   "cell_type": "markdown",
   "id": "5f0dcdc6-f161-4f4c-bea6-092300c9d3fc",
   "metadata": {},
   "source": [
    "# 1. \n",
    "- You are given a string and your task is to swap cases. In other words, convert all lowercase letters to uppercase letters and vice versa."
   ]
  },
  {
   "cell_type": "code",
   "execution_count": 16,
   "id": "95df5b5c-197e-4d2a-add6-785f579ef169",
   "metadata": {},
   "outputs": [],
   "source": [
    "def swap_case(s):\n",
    "    new = \"\"\n",
    "    for x in s:\n",
    "        if x.islower():\n",
    "            new = new + x.upper()\n",
    "        elif x.isupper:\n",
    "            new = new + x.lower()\n",
    "        else:\n",
    "            new = new + x\n",
    "    return new"
   ]
  },
  {
   "cell_type": "code",
   "execution_count": 18,
   "id": "52101eaf-3fb6-4a4a-a1f9-0c49230bbea2",
   "metadata": {},
   "outputs": [
    {
     "data": {
      "text/plain": [
       "'YaRaNa'"
      ]
     },
     "execution_count": 18,
     "metadata": {},
     "output_type": "execute_result"
    }
   ],
   "source": [
    "swap_case(\"yArAnA\")"
   ]
  },
  {
   "cell_type": "markdown",
   "id": "82e240e5-8cea-4b7b-9880-fc0ee1b0ec77",
   "metadata": {},
   "source": [
    "# 2\n",
    "- You are given the firstname and lastname of a person on two different lines. Your task is to read them and print the following:\n",
    "- \r\n",
    "Hello firstname lastname! You just delved into python."
   ]
  },
  {
   "cell_type": "code",
   "execution_count": 19,
   "id": "04198e57-68b1-4b1c-9223-a3ba0c88af68",
   "metadata": {},
   "outputs": [],
   "source": [
    "def full_name(first, last):\n",
    "    print(f'Hello {first} {last}! You just delved into python.')"
   ]
  },
  {
   "cell_type": "code",
   "execution_count": 21,
   "id": "88ad7972-5296-454b-a7d3-7652778d2c5a",
   "metadata": {},
   "outputs": [
    {
     "name": "stdout",
     "output_type": "stream",
     "text": [
      "Hello Yarana Kumar! You just delved into python.\n"
     ]
    }
   ],
   "source": [
    "full_name(\"Yarana\", \"Kumar\")"
   ]
  },
  {
   "cell_type": "code",
   "execution_count": 22,
   "id": "d05c8e0e-3a8f-4a97-a8d0-fea98f0ff821",
   "metadata": {},
   "outputs": [
    {
     "name": "stdout",
     "output_type": "stream",
     "text": [
      "Hello Yash Raj! You just delved into python.\n"
     ]
    }
   ],
   "source": [
    "def full_name(first, last):\n",
    "    print('Hello {0} {1}! You just delved into python.'.format(first, last))\n",
    "\n",
    "full_name(\"Yash\", \"Raj\")"
   ]
  },
  {
   "cell_type": "markdown",
   "id": "b2f8223e-af4c-4c98-9ae8-4a2b908a27b9",
   "metadata": {},
   "source": [
    "# 3\n",
    "- In this challenge, the user enters a string and a substring. You have to print the number of times that the substring occurs in the given string. String traversal will take place from left to right, not from right to left.C"
   ]
  },
  {
   "cell_type": "code",
   "execution_count": 40,
   "id": "0f72b798-1aa7-408b-8429-e01b763e0970",
   "metadata": {},
   "outputs": [],
   "source": [
    "# Method 1\n",
    "# Time Commplexity = O(n)\n",
    "# Auxiliary Space = O(1)\n",
    "# ABCDCDC\n",
    "# CDC\n",
    "# Output = 2\n",
    "def count_substring(string, substring):\n",
    "    return sum(1 for i in range(len(string)) if string.startswith(substring, i))"
   ]
  },
  {
   "cell_type": "code",
   "execution_count": 29,
   "id": "68790cf1-ab58-4064-bdd6-da4f05af3068",
   "metadata": {},
   "outputs": [
    {
     "data": {
      "text/plain": [
       "2"
      ]
     },
     "execution_count": 29,
     "metadata": {},
     "output_type": "execute_result"
    }
   ],
   "source": [
    "count_substring(\"ABCDCDC\", \"CDC\")"
   ]
  },
  {
   "cell_type": "code",
   "execution_count": 39,
   "id": "0276e02e-6c5b-4f60-9005-f8fb3bd5e469",
   "metadata": {},
   "outputs": [
    {
     "data": {
      "text/plain": [
       "3"
      ]
     },
     "execution_count": 39,
     "metadata": {},
     "output_type": "execute_result"
    }
   ],
   "source": [
    "# Method 2\n",
    "# Using regular expression\n",
    "import re\n",
    "string = \"Yarana\"\n",
    "sub_string = \"a\"\n",
    "len(re.findall(sub_string, string))"
   ]
  },
  {
   "cell_type": "code",
   "execution_count": 33,
   "id": "4e49a8a1-1fe9-48b3-a16a-14f128dd314b",
   "metadata": {},
   "outputs": [],
   "source": [
    "# Method 3\n",
    "# Time Complexity = O(n*m)\n",
    "# Auxiliary space = O(1)\n",
    "def count_substring(string, sub_string):\n",
    "    n = len(string)\n",
    "    m = len(sub_string)\n",
    "    count = 0\n",
    "    for i in range(n - m + 1):\n",
    "        if string[i:i+m] == sub_string:\n",
    "            count += 1\n",
    "        else:\n",
    "            pass\n",
    "    return count"
   ]
  },
  {
   "cell_type": "code",
   "execution_count": 36,
   "id": "d11c745a-b845-4554-af75-ee94b7baf4d9",
   "metadata": {},
   "outputs": [
    {
     "data": {
      "text/plain": [
       "1"
      ]
     },
     "execution_count": 36,
     "metadata": {},
     "output_type": "execute_result"
    }
   ],
   "source": [
    "count_substring(\"yarana\", 'n')"
   ]
  },
  {
   "cell_type": "code",
   "execution_count": 41,
   "id": "c9e10258-0edb-43fd-80c9-2d10498f6def",
   "metadata": {},
   "outputs": [
    {
     "data": {
      "text/plain": [
       "1"
      ]
     },
     "execution_count": 41,
     "metadata": {},
     "output_type": "execute_result"
    }
   ],
   "source": [
    "count_substring(\"I am an Indian, by birth. Birth\", \"birth\")"
   ]
  },
  {
   "cell_type": "code",
   "execution_count": 37,
   "id": "e6a78f5c-ab46-49b5-8193-0e134bf49295",
   "metadata": {},
   "outputs": [
    {
     "data": {
      "text/plain": [
       "2"
      ]
     },
     "execution_count": 37,
     "metadata": {},
     "output_type": "execute_result"
    }
   ],
   "source": [
    "count_substring(\"ABCDCDC\", \"CDC\")"
   ]
  },
  {
   "cell_type": "markdown",
   "id": "5a7ed57b-eef8-45c4-9501-4a95d440f9ca",
   "metadata": {},
   "source": [
    "# 4\n",
    "- In Python, a string can be split on a delimiter."
   ]
  },
  {
   "cell_type": "code",
   "execution_count": 42,
   "id": "6bfde6ea-912e-4ffe-9294-fdf7b439d932",
   "metadata": {},
   "outputs": [
    {
     "name": "stdin",
     "output_type": "stream",
     "text": [
      " i am a good boy\n"
     ]
    },
    {
     "name": "stdout",
     "output_type": "stream",
     "text": [
      "i-am-a-good-boy\n"
     ]
    }
   ],
   "source": [
    "def split_and_join(line):\n",
    "    line = line.split(\" \")\n",
    "    line = \"-\".join(line)\n",
    "    return line\n",
    "\n",
    "if __name__ == '__main__':\n",
    "    line = input()\n",
    "    result = split_and_join(line)\n",
    "    print(result)"
   ]
  },
  {
   "cell_type": "code",
   "execution_count": 1,
   "id": "dae86111-22a5-4f59-9ca9-ef0c4d367a3c",
   "metadata": {},
   "outputs": [
    {
     "name": "stdin",
     "output_type": "stream",
     "text": [
      " q4A\n"
     ]
    },
    {
     "name": "stdout",
     "output_type": "stream",
     "text": [
      "True\n",
      "True\n",
      "True\n",
      "True\n",
      "True\n"
     ]
    }
   ],
   "source": [
    "s = input()\n",
    "print(any(i.isalnum() for i in s))\n",
    "print(any(i.isalpha() for i in s))\n",
    "print(any(i.isdigit() for i in s))\n",
    "print(any(i.islower() for i in s))\n",
    "print(any(i.isupper() for i in s))"
   ]
  },
  {
   "cell_type": "markdown",
   "id": "e3ceec5c-425e-430e-93ea-7186d8e78d62",
   "metadata": {},
   "source": [
    "# 5\n",
    "- You are asked to ensure that the first and last names of people begin with a capital letter in their passports. For example, alison heck should be capitalised correctly as Alison Heck."
   ]
  },
  {
   "cell_type": "code",
   "execution_count": 22,
   "id": "3b43e545-a4a7-4f13-bf51-9adb29f7d37d",
   "metadata": {},
   "outputs": [],
   "source": [
    "def solve(s):\n",
    "    for name in s.split():\n",
    "        if name.isalpha():\n",
    "            s = s.replace(name, name.title())\n",
    "        else:\n",
    "            pass\n",
    "    return s"
   ]
  },
  {
   "cell_type": "code",
   "execution_count": 23,
   "id": "e57658ad-2a35-4e99-a376-b61a3f82ecf8",
   "metadata": {},
   "outputs": [
    {
     "data": {
      "text/plain": [
       "'Yarana Kumar'"
      ]
     },
     "execution_count": 23,
     "metadata": {},
     "output_type": "execute_result"
    }
   ],
   "source": [
    "capStr(\"yarana kumar\")"
   ]
  },
  {
   "cell_type": "code",
   "execution_count": 24,
   "id": "ef1e6bb3-e17d-4479-8a0f-bd1851890443",
   "metadata": {},
   "outputs": [
    {
     "data": {
      "text/plain": [
       "'1 W 5 R 3g'"
      ]
     },
     "execution_count": 24,
     "metadata": {},
     "output_type": "execute_result"
    }
   ],
   "source": [
    "# This should give : 1 W 5 R 3g\n",
    "capStr(\"1 w 5 r 3g\")"
   ]
  },
  {
   "cell_type": "markdown",
   "id": "46f7848c-3b68-43b2-b952-168dca7fb47c",
   "metadata": {},
   "source": [
    "# 6 Not Solved\n",
    "- You are given a string  and width. \n",
    "Your task is to wrap the string into a paragraph of widt WX\r\n",
    "YZ4."
   ]
  },
  {
   "cell_type": "code",
   "execution_count": 6,
   "id": "07106ce5-b11f-4909-83f2-8014c50f3b7f",
   "metadata": {},
   "outputs": [],
   "source": [
    "# ABCDEFGHIJKLIMNOQRSTUVWXYZ\n",
    "# 4\n",
    "# ABCD\n",
    "# EFGH\n",
    "# IJKL\n",
    "# IMNO\n",
    "# QRST\n",
    "# UVWX\n",
    "# YZ\n",
    "\n",
    "def wrap(string, width):\n",
    "    i = 0\n",
    "    while i <= len(string):\n",
    "        print(string[i:i+width])\n",
    "        i += width"
   ]
  },
  {
   "cell_type": "code",
   "execution_count": 7,
   "id": "dc6595df-5f82-4b03-9786-01e409cceb80",
   "metadata": {},
   "outputs": [
    {
     "name": "stdout",
     "output_type": "stream",
     "text": [
      "ABCD\n",
      "EFGH\n",
      "IJKL\n",
      "IMNO\n",
      "QRST\n",
      "UVWX\n",
      "YZ\n"
     ]
    }
   ],
   "source": [
    "wrap(\"ABCDEFGHIJKLIMNOQRSTUVWXYZ\", 4)"
   ]
  },
  {
   "cell_type": "code",
   "execution_count": 8,
   "id": "45412326-d69f-4750-a124-261eaecdfdd9",
   "metadata": {},
   "outputs": [],
   "source": [
    "import textwrap"
   ]
  },
  {
   "cell_type": "markdown",
   "id": "0da05596-fbe0-4190-88f0-d8e7e01245b3",
   "metadata": {},
   "source": [
    "# 7 Not Solved\n",
    "- Minion Game"
   ]
  },
  {
   "cell_type": "code",
   "execution_count": 37,
   "id": "4adb3fae-ebd0-4d8a-88f1-ec4678783d1c",
   "metadata": {},
   "outputs": [],
   "source": [
    "def minion_game(string):\n",
    "    vowel = 'AEIOU'\n",
    "    # Kevin: vowel substring\n",
    "    count_v = 0\n",
    "    for chr in string:\n",
    "        # counting vowel\n",
    "        if chr in vowel:\n",
    "            count_v += 1\n",
    "        # Counting substring\n",
    "        for chr in string:\n",
    "            if char in vowel:\n",
    "                \n",
    "    return count_v"
   ]
  },
  {
   "cell_type": "code",
   "execution_count": 38,
   "id": "965ca348-da56-4538-b76a-7ececcf5aada",
   "metadata": {},
   "outputs": [
    {
     "data": {
      "text/plain": [
       "3"
      ]
     },
     "execution_count": 38,
     "metadata": {},
     "output_type": "execute_result"
    }
   ],
   "source": [
    "minion_game(\"YARANA\")"
   ]
  },
  {
   "cell_type": "code",
   "execution_count": 28,
   "id": "6bb65dc1-7078-408f-87f1-e11a5db45c94",
   "metadata": {},
   "outputs": [
    {
     "name": "stdout",
     "output_type": "stream",
     "text": [
      "Yarana\n"
     ]
    }
   ],
   "source": [
    "vowel = 'AEIOU'\n",
    "for i in vowel:\n",
    "    if i == 'I':\n",
    "        print(\"Yarana\")"
   ]
  },
  {
   "cell_type": "markdown",
   "id": "9c893f4e-eade-47e6-8b54-378e5901b975",
   "metadata": {},
   "source": [
    "# 8 not\n",
    "- You are given an integer, . Your task is to print an alphabet rangoli of size . (Rangoli is a form of Indian folk art based on creation of patterns.)"
   ]
  },
  {
   "cell_type": "code",
   "execution_count": 40,
   "id": "a96a14e2-0f2f-49f1-8fe3-c5f4a4bbeb64",
   "metadata": {},
   "outputs": [],
   "source": [
    "# #size 3\n",
    "\n",
    "# ----c----\n",
    "# --c-b-c--\n",
    "# c-b-a-b-c\n",
    "# --c-b-c--\n",
    "# ----c----\n",
    "\n",
    "# #size 5\n",
    "\n",
    "# --------e--------\n",
    "# ------e-d-e------\n",
    "# ----e-d-c-d-e----\n",
    "# --e-d-c-b-c-d-e--\n",
    "# e-d-c-b-a-b-c-d-e\n",
    "# --e-d-c-b-c-d-e--\n",
    "# ----e-d-c-d-e----\n",
    "# ------e-d-e------\n",
    "# --------e--------"
   ]
  },
  {
   "cell_type": "code",
   "execution_count": 57,
   "id": "842c47e3-0daa-438e-b264-4c832076531d",
   "metadata": {},
   "outputs": [],
   "source": [
    "def print_rangoli(size):\n",
    "    import string\n",
    "    row = size * 2 - 1\n",
    "    col = size * 4 - 3\n",
    "    lower = list(string.ascii_lowercase)\n",
    "    # row\n",
    "    for i in range(row):\n",
    "        # column\n",
    "        for j in range(col):\n",
    "            if j == col // 2:\n",
    "                print(lower[size - 1], end = \"\")\n",
    "            else:\n",
    "                print(\"-\", end = \"\")\n",
    "        print()\n",
    "        "
   ]
  },
  {
   "cell_type": "code",
   "execution_count": 61,
   "id": "09c71fd0-7ccf-4f99-bdd9-8e87a5abb8a2",
   "metadata": {},
   "outputs": [
    {
     "name": "stdout",
     "output_type": "stream",
     "text": [
      "----c----\n",
      "----c----\n",
      "----c----\n",
      "----c----\n",
      "----c----\n"
     ]
    }
   ],
   "source": [
    "print_rangoli(3)"
   ]
  },
  {
   "cell_type": "markdown",
   "id": "81daedce-053e-4811-ba65-2b0c301ac324",
   "metadata": {},
   "source": [
    "# 9inary"
   ]
  },
  {
   "cell_type": "code",
   "execution_count": 1,
   "id": "1607c9bc-f7b7-4621-ab77-c64ccaed9fcc",
   "metadata": {},
   "outputs": [],
   "source": [
    "# Given an integer, n, print the following values for each integer  from 1 to n:\n",
    "# Decimal\n",
    "# Octal\n",
    "# Hexadecimal (capitalized)\n",
    "# Binary"
   ]
  },
  {
   "cell_type": "code",
   "execution_count": 11,
   "id": "0b3b9b5b-ff04-494e-a9be-19d5ac005845",
   "metadata": {},
   "outputs": [
    {
     "name": "stdout",
     "output_type": "stream",
     "text": [
      " 1  1 1      1\n",
      " 2  2 2     10\n",
      " 3  3 3     11\n",
      " 4  4 4    100\n",
      " 5  5 5    101\n",
      " 6  6 6    110\n",
      " 7  7 7    111\n",
      " 8 10 8   1000\n",
      " 9 11 9   1001\n",
      "10 12 a   1010\n",
      "11 13 b   1011\n",
      "12 14 c   1100\n"
     ]
    }
   ],
   "source": [
    "number = 12\n",
    "for x in range(1, number + 1):\n",
    "    print(f\"{x:>2}\", end = \"\")\n",
    "    print(f\"{oct(x)[2:]:>3}\", end = \"\")\n",
    "    print(f\"{hex(x)[2:]:>2}\", end = \"\")\n",
    "    print(f\"{bin(x)[2:]:>7}\", end = \"\")\n",
    "    print()"
   ]
  },
  {
   "cell_type": "code",
   "execution_count": 5,
   "id": "569dccac-4031-439a-a6bd-118911369c9b",
   "metadata": {},
   "outputs": [
    {
     "data": {
      "text/plain": [
       "'0o143'"
      ]
     },
     "execution_count": 5,
     "metadata": {},
     "output_type": "execute_result"
    }
   ],
   "source": [
    "oct(99)"
   ]
  },
  {
   "cell_type": "code",
   "execution_count": 6,
   "id": "7e76de5e-4a61-45e7-9e41-de0e7c0886c0",
   "metadata": {},
   "outputs": [
    {
     "data": {
      "text/plain": [
       "'0x63'"
      ]
     },
     "execution_count": 6,
     "metadata": {},
     "output_type": "execute_result"
    }
   ],
   "source": [
    "hex(99)"
   ]
  },
  {
   "cell_type": "code",
   "execution_count": 7,
   "id": "647df830-d35e-4902-bf8c-9bf1c9d79142",
   "metadata": {},
   "outputs": [
    {
     "data": {
      "text/plain": [
       "'0b1100011'"
      ]
     },
     "execution_count": 7,
     "metadata": {},
     "output_type": "execute_result"
    }
   ],
   "source": [
    "bin(99)"
   ]
  },
  {
   "cell_type": "markdown",
   "id": "26bfbcb7-28f7-4cb7-a847-94fd0456834f",
   "metadata": {},
   "source": []
  },
  {
   "cell_type": "code",
   "execution_count": 1,
   "id": "cbf09c9e-0cf7-475b-a8a0-2d4e355c25ce",
   "metadata": {},
   "outputs": [
    {
     "name": "stdin",
     "output_type": "stream",
     "text": [
      " 5\n",
      " 1 2 3 4 5\n"
     ]
    }
   ],
   "source": [
    "nA = int(input())\n",
    "A = set(map(int, input().split()))"
   ]
  },
  {
   "cell_type": "code",
   "execution_count": 2,
   "id": "b838bb51-14b6-48cf-935a-ed08e8acef01",
   "metadata": {},
   "outputs": [
    {
     "data": {
      "text/plain": [
       "{1, 2, 3, 4, 5}"
      ]
     },
     "execution_count": 2,
     "metadata": {},
     "output_type": "execute_result"
    }
   ],
   "source": [
    "A"
   ]
  },
  {
   "cell_type": "code",
   "execution_count": null,
   "id": "0af5093f-c4ed-4c8a-a0d8-97caa2478a9a",
   "metadata": {},
   "outputs": [],
   "source": []
  }
 ],
 "metadata": {
  "kernelspec": {
   "display_name": "Python 3 (ipykernel)",
   "language": "python",
   "name": "python3"
  },
  "language_info": {
   "codemirror_mode": {
    "name": "ipython",
    "version": 3
   },
   "file_extension": ".py",
   "mimetype": "text/x-python",
   "name": "python",
   "nbconvert_exporter": "python",
   "pygments_lexer": "ipython3",
   "version": "3.11.3"
  }
 },
 "nbformat": 4,
 "nbformat_minor": 5
}

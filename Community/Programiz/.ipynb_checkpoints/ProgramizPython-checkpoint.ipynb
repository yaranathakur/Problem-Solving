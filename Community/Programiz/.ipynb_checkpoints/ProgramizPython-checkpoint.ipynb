{
 "cells": [
  {
   "cell_type": "markdown",
   "id": "e4b5f96d-4b83-4be8-8414-12cfc197e066",
   "metadata": {},
   "source": [
    "# Python Program to Print Hello world!"
   ]
  },
  {
   "cell_type": "code",
   "execution_count": 1,
   "id": "46068915-db05-4e75-8374-346f4d905dca",
   "metadata": {},
   "outputs": [
    {
     "name": "stdout",
     "output_type": "stream",
     "text": [
      "Hello World\n"
     ]
    }
   ],
   "source": [
    "print('Hello World')"
   ]
  },
  {
   "cell_type": "markdown",
   "id": "26712899-7252-45b7-8429-3df024b2b1d1",
   "metadata": {},
   "source": [
    "# Python Program to Add Two Numbers"
   ]
  },
  {
   "cell_type": "code",
   "execution_count": 2,
   "id": "1c8b19dd-3f46-491c-9472-d89a76d1c8c8",
   "metadata": {},
   "outputs": [
    {
     "name": "stdout",
     "output_type": "stream",
     "text": [
      "27\n"
     ]
    }
   ],
   "source": [
    "num1 = 12\n",
    "num2 = 15\n",
    "add = num1 + num2\n",
    "print(add)"
   ]
  },
  {
   "cell_type": "markdown",
   "id": "2b5006a4-d7a0-42f0-88d8-4925eb8ba142",
   "metadata": {},
   "source": [
    "# Python Program to Find the Square Root"
   ]
  },
  {
   "cell_type": "code",
   "execution_count": 3,
   "id": "a34df32e-2ff8-4ab9-8bbf-461823e7a0d8",
   "metadata": {},
   "outputs": [
    {
     "name": "stdin",
     "output_type": "stream",
     "text": [
      "Enter the number:  144\n"
     ]
    },
    {
     "name": "stdout",
     "output_type": "stream",
     "text": [
      "12.0\n"
     ]
    }
   ],
   "source": [
    "num = int(input(\"Enter the number: \"))\n",
    "print(num**0.5)"
   ]
  },
  {
   "cell_type": "markdown",
   "id": "f8da62b5-4518-4e3f-bafd-8204013027f0",
   "metadata": {},
   "source": [
    "# Python Program to Calculate the Area of a Triangle"
   ]
  },
  {
   "cell_type": "code",
   "execution_count": 4,
   "id": "624e171e-0e95-49b0-9837-a3ad36d7c4b7",
   "metadata": {},
   "outputs": [
    {
     "name": "stdin",
     "output_type": "stream",
     "text": [
      "Enter the length of base:  12\n",
      "Enter the length of height:  12\n"
     ]
    },
    {
     "name": "stdout",
     "output_type": "stream",
     "text": [
      "72.0\n"
     ]
    }
   ],
   "source": [
    "base = int(input(\"Enter the length of base: \"))\n",
    "height = int(input(\"Enter the length of height: \"))\n",
    "area = 1/2 * base * height\n",
    "print(area)"
   ]
  },
  {
   "cell_type": "markdown",
   "id": "15b109d5-f527-441f-921c-bcd3751ce99d",
   "metadata": {},
   "source": [
    "# Python Program to Solve Quadratic Equation"
   ]
  },
  {
   "cell_type": "code",
   "execution_count": 5,
   "id": "2e048988-bd58-4554-a8c0-4ed864285a18",
   "metadata": {},
   "outputs": [
    {
     "name": "stdout",
     "output_type": "stream",
     "text": [
      "------Enter all the coeffincient with sign------\n"
     ]
    },
    {
     "name": "stdin",
     "output_type": "stream",
     "text": [
      "Enter the coefficient of x square:  2\n",
      "Enter the coefficient of x:  -4\n",
      "Enter the constatnt term:  2\n"
     ]
    },
    {
     "name": "stdout",
     "output_type": "stream",
     "text": [
      "Roots are: 1.0, 1.0\n"
     ]
    }
   ],
   "source": [
    "import math\n",
    "print(\"------Enter all the coeffincient with sign------\")\n",
    "coef_x_sq = int(input(\"Enter the coefficient of x square: \"))\n",
    "coef_x = int(input(\"Enter the coefficient of x: \"))\n",
    "const = int(input(\"Enter the constatnt term: \"))\n",
    "\n",
    "# discriminant\n",
    "disc = coef_x ** 2 - 4 * coef_x_sq * const\n",
    "\n",
    "# finding roots of qautratic equation\n",
    "if disc >= 0:\n",
    "    alpha = (-1 * coef_x + math.sqrt(disc))/(2 * coef_x_sq)\n",
    "    beta = (-1 * coef_x + math.sqrt(disc))/(2 * coef_x_sq)\n",
    "    print(\"Roots are: {0}, {1}\".format(alpha, beta))\n",
    "else:\n",
    "    print(\"Real roots doesnot exist\")"
   ]
  },
  {
   "cell_type": "code",
   "execution_count": 6,
   "id": "8220f9de-da2b-4a94-96a5-5a436df9b552",
   "metadata": {},
   "outputs": [
    {
     "name": "stdout",
     "output_type": "stream",
     "text": [
      "------Enter all the coeffincient with sign------\n"
     ]
    },
    {
     "name": "stdin",
     "output_type": "stream",
     "text": [
      "Enter the coefficient of x square:  2\n",
      "Enter the coefficient of x:  -4\n",
      "Enter the constatnt term:  2\n"
     ]
    },
    {
     "name": "stdout",
     "output_type": "stream",
     "text": [
      "Roots are: (1+0j), (1+0j)\n"
     ]
    }
   ],
   "source": [
    "import cmath\n",
    "print(\"------Enter all the coeffincient with sign------\")\n",
    "coef_x_sq = int(input(\"Enter the coefficient of x square: \"))\n",
    "coef_x = int(input(\"Enter the coefficient of x: \"))\n",
    "const = int(input(\"Enter the constatnt term: \"))\n",
    "\n",
    "# discriminant\n",
    "disc = coef_x ** 2 - 4 * coef_x_sq * const\n",
    "\n",
    "# finding roots of qautratic equation\n",
    "alpha = (-1 * coef_x + cmath.sqrt(disc))/(2 * coef_x_sq)\n",
    "beta = (-1 * coef_x + cmath.sqrt(disc))/(2 * coef_x_sq)\n",
    "print(\"Roots are: {0}, {1}\".format(alpha, beta))"
   ]
  },
  {
   "cell_type": "markdown",
   "id": "379e0f08-0f9f-4c29-8ef4-773e1513b70a",
   "metadata": {},
   "source": [
    "# Python Program to Swap Two Variables"
   ]
  },
  {
   "cell_type": "code",
   "execution_count": 7,
   "id": "5c2a5da0-0b14-4176-8c9e-7f799048fa51",
   "metadata": {},
   "outputs": [
    {
     "name": "stdin",
     "output_type": "stream",
     "text": [
      "Enter the number:  12\n",
      "Enter the number:  22\n"
     ]
    },
    {
     "name": "stdout",
     "output_type": "stream",
     "text": [
      "Number before swapping: 12, 22\n",
      "Number after swapping: 22, 12\n"
     ]
    }
   ],
   "source": [
    "num1 = int(input(\"Enter the number: \"))\n",
    "num2 = int(input(\"Enter the number: \"))\n",
    "\n",
    "print(\"Number before swapping: {0}, {1}\".format(num1, num2))\n",
    "\n",
    "# swapping\n",
    "num1, num2 = num2, num1\n",
    "print(\"Number after swapping: {0}, {1}\".format(num1, num2))"
   ]
  },
  {
   "cell_type": "code",
   "execution_count": 8,
   "id": "62f284af-88e5-4ff0-821b-b61d6feec379",
   "metadata": {},
   "outputs": [
    {
     "name": "stdin",
     "output_type": "stream",
     "text": [
      "Enter the number:  12\n",
      "Enter the number:  22\n"
     ]
    },
    {
     "name": "stdout",
     "output_type": "stream",
     "text": [
      "Number before swapping: 12, 22\n",
      "Number after swapping: 22, 12\n"
     ]
    }
   ],
   "source": [
    "# Using temporary variable\n",
    "num1 = int(input(\"Enter the number: \"))\n",
    "num2 = int(input(\"Enter the number: \"))\n",
    "\n",
    "print(\"Number before swapping: {0}, {1}\".format(num1, num2))\n",
    "\n",
    "temp = num1\n",
    "num1 = num2\n",
    "num2 = temp\n",
    "\n",
    "print(\"Number after swapping: {0}, {1}\".format(num1, num2))"
   ]
  },
  {
   "cell_type": "code",
   "execution_count": 9,
   "id": "89bfa674-39a6-4e8c-8dfc-15986506d4e0",
   "metadata": {},
   "outputs": [
    {
     "name": "stdin",
     "output_type": "stream",
     "text": [
      "Enter the number:  12\n",
      "Enter the number:  22\n"
     ]
    },
    {
     "name": "stdout",
     "output_type": "stream",
     "text": [
      "Number before swapping: 12, 22\n",
      "Number after swapping: 22, 12\n"
     ]
    }
   ],
   "source": [
    "# without any temporary variable\n",
    "num1 = int(input(\"Enter the number: \"))\n",
    "num2 = int(input(\"Enter the number: \"))\n",
    "\n",
    "print(\"Number before swapping: {0}, {1}\".format(num1, num2))\n",
    "\n",
    "num1 = num1 - num2\n",
    "num2 = num2 + num1\n",
    "num1 = num2 - num1\n",
    "\n",
    "print(\"Number after swapping: {0}, {1}\".format(num1, num2))"
   ]
  },
  {
   "cell_type": "markdown",
   "id": "9f31ffdc-2416-4005-b17e-43a2be29c081",
   "metadata": {},
   "source": [
    "# Python Program to Generate a Random Number"
   ]
  },
  {
   "cell_type": "code",
   "execution_count": 10,
   "id": "c6809a8b-9457-48d8-91c9-40d1ab7f5458",
   "metadata": {},
   "outputs": [
    {
     "name": "stdout",
     "output_type": "stream",
     "text": [
      "Press 1 for random\n",
      "Press 2 for range random\n"
     ]
    },
    {
     "name": "stdin",
     "output_type": "stream",
     "text": [
      "Select option:  1\n"
     ]
    },
    {
     "name": "stdout",
     "output_type": "stream",
     "text": [
      "0.6154460176166376\n"
     ]
    }
   ],
   "source": [
    "import random\n",
    "print(\"Press 1 for random\")\n",
    "print(\"Press 2 for range random\")\n",
    "\n",
    "inp = int(input(\"Select option: \"))\n",
    "\n",
    "if inp == 1:\n",
    "    print(random.random())\n",
    "else:\n",
    "    lower = int(input(\"Enter the lower bound: \"))\n",
    "    upper = int(input(\"Enter the upper bound: \"))\n",
    "    print(\"Random number between {0} and {1}\".format(lower, upper))\n",
    "    print(random.randint(lower, upper))"
   ]
  },
  {
   "cell_type": "markdown",
   "id": "e0d9d937-1a3b-479e-8cf5-6499fec1b0a9",
   "metadata": {},
   "source": [
    "# Python Program to Convert Kilometers to Miles"
   ]
  },
  {
   "cell_type": "code",
   "execution_count": 11,
   "id": "e407f03b-deb7-4647-89b2-57d42e02d105",
   "metadata": {},
   "outputs": [
    {
     "name": "stdin",
     "output_type": "stream",
     "text": [
      "Enter the Km:  12\n"
     ]
    },
    {
     "name": "stdout",
     "output_type": "stream",
     "text": [
      "12 Km = 7.4564520000000005 Miles\n"
     ]
    }
   ],
   "source": [
    "def km_to_mile():\n",
    "    km = int(input(\"Enter the Km: \"))\n",
    "    oneKm = 0.621371 #miles\n",
    "    print(\"{0} Km = {1} Miles\".format(km, km*oneKm))\n",
    "km_to_mile()"
   ]
  },
  {
   "cell_type": "markdown",
   "id": "102ed742-1afe-487c-9fb8-b5a2e3ab06dc",
   "metadata": {},
   "source": [
    "# Python Program to Convert Celsius To Fahrenheit"
   ]
  },
  {
   "cell_type": "code",
   "execution_count": 12,
   "id": "d47b80e8-4d1b-487c-8953-833e69d3d7ba",
   "metadata": {},
   "outputs": [
    {
     "name": "stdin",
     "output_type": "stream",
     "text": [
      "Enter the value in degree celsius:  -40\n"
     ]
    },
    {
     "name": "stdout",
     "output_type": "stream",
     "text": [
      "-40 °C = -40.0 °F\n"
     ]
    }
   ],
   "source": [
    "# (32°F − 32) × 5/9 = 0°C\n",
    "def c_To_f():\n",
    "    c = int(input(\"Enter the value in degree celsius: \"))\n",
    "    print(\"{0} °C = {1} °F\".format(c, ((c*9/5) + 32)))\n",
    "\n",
    "c_To_f()"
   ]
  },
  {
   "cell_type": "markdown",
   "id": "91a0801e-647d-42d0-bdf2-27f0422f5ddd",
   "metadata": {},
   "source": [
    "# Python Program to Check if a Number is Positive, Negative or 0"
   ]
  },
  {
   "cell_type": "code",
   "execution_count": 13,
   "id": "c33e00e9-8a0b-47ee-b2eb-2aea0ccaed7a",
   "metadata": {},
   "outputs": [
    {
     "name": "stdin",
     "output_type": "stream",
     "text": [
      "Enter the number -12\n"
     ]
    },
    {
     "name": "stdout",
     "output_type": "stream",
     "text": [
      "-12 is negative\n"
     ]
    }
   ],
   "source": [
    "def signChecker():\n",
    "    num = int(input(\"Enter the number\"))\n",
    "    if num > 0:\n",
    "        print(f\"{num} is positive\")\n",
    "    elif num < 0:\n",
    "        print(f\"{num} is negative\")\n",
    "    elif num == 0:\n",
    "        print(f\"{num} is Zero\")\n",
    "    else:\n",
    "        print(\"Invalid Input!\")\n",
    "        \n",
    "signChecker()"
   ]
  },
  {
   "cell_type": "markdown",
   "id": "21f366a8-44ab-41c4-8c92-3afdeea036ef",
   "metadata": {},
   "source": [
    "# Python Program to Check if a Number is Odd or Even"
   ]
  },
  {
   "cell_type": "code",
   "execution_count": 14,
   "id": "2acbf51a-f819-477f-ae27-4e42993a88bc",
   "metadata": {},
   "outputs": [
    {
     "name": "stdin",
     "output_type": "stream",
     "text": [
      "Enter the number:  12\n"
     ]
    },
    {
     "name": "stdout",
     "output_type": "stream",
     "text": [
      "Even Number\n"
     ]
    }
   ],
   "source": [
    "num = int(input(\"Enter the number: \"))\n",
    "if num % 2 == 0:\n",
    "    print(\"Even Number\")\n",
    "else:\n",
    "    print(\"Odd Number\")"
   ]
  },
  {
   "cell_type": "markdown",
   "id": "cf909e2e-747a-4251-9550-65293f266920",
   "metadata": {},
   "source": [
    "# Python Program to Check Leap Year"
   ]
  },
  {
   "cell_type": "code",
   "execution_count": 15,
   "id": "80830a25-e755-458c-98c1-8e8affebc24f",
   "metadata": {},
   "outputs": [
    {
     "name": "stdin",
     "output_type": "stream",
     "text": [
      "Enter the year:  1200\n"
     ]
    },
    {
     "name": "stdout",
     "output_type": "stream",
     "text": [
      "Leap Year\n"
     ]
    }
   ],
   "source": [
    "year = int(input(\"Enter the year: \"))\n",
    "if year % 400 == 0:\n",
    "    print(\"Leap Year\")\n",
    "elif year % 100 != 0  and year % 4 == 0:\n",
    "    print(\"Leap Year\")\n",
    "else:\n",
    "    print(\"Not a Leap Year\")"
   ]
  },
  {
   "cell_type": "code",
   "execution_count": 16,
   "id": "014af1f9-ef5e-4948-a20c-d2bedd7fee55",
   "metadata": {},
   "outputs": [
    {
     "name": "stdin",
     "output_type": "stream",
     "text": [
      "Enter the year:  1300\n"
     ]
    },
    {
     "name": "stdout",
     "output_type": "stream",
     "text": [
      "Not a Leap Year\n"
     ]
    }
   ],
   "source": [
    "year = int(input(\"Enter the year: \"))\n",
    "if year % 400 == 0 or (year % 100 != 0  and year % 4 == 0):\n",
    "    print(\"Leap Year\")\n",
    "else:\n",
    "    print(\"Not a Leap Year\")"
   ]
  },
  {
   "cell_type": "markdown",
   "id": "29e62db7-b59c-485b-b30f-7a6e06ca5987",
   "metadata": {},
   "source": [
    "# Python Program to Find the Largest Among Three Numbers"
   ]
  },
  {
   "cell_type": "code",
   "execution_count": null,
   "id": "81149353-b46a-4ad2-b3c5-8b3f6a402a56",
   "metadata": {},
   "outputs": [],
   "source": []
  },
  {
   "cell_type": "markdown",
   "id": "bc2f9290-9a18-4e7a-9f7c-d949681ddd16",
   "metadata": {},
   "source": [
    "# Python Program to Check Prime Number"
   ]
  },
  {
   "cell_type": "code",
   "execution_count": 17,
   "id": "897af623-436e-4ddc-b740-9d9e849279ba",
   "metadata": {},
   "outputs": [
    {
     "name": "stdin",
     "output_type": "stream",
     "text": [
      "Enter the number:  12\n"
     ]
    },
    {
     "name": "stdout",
     "output_type": "stream",
     "text": [
      "12 is not prime\n"
     ]
    }
   ],
   "source": [
    "# variation1 \n",
    "def primeCheck():\n",
    "    num = int(input(\"Enter the number: \"))\n",
    "    for i in range(2, int((num + 1) /2)):\n",
    "        if num % i == 0:\n",
    "            print(f\"{num} is not prime\")\n",
    "            break\n",
    "        else:\n",
    "            print(f\"{num} is prime\")\n",
    "            break\n",
    "primeCheck()"
   ]
  },
  {
   "cell_type": "markdown",
   "id": "54a275c8-77f4-4c73-8ab1-6106cfc65842",
   "metadata": {},
   "source": [
    "# Python Program to Print all Prime Numbers in an Interval"
   ]
  },
  {
   "cell_type": "code",
   "execution_count": 18,
   "id": "39582c7b-f9ab-48bc-852f-2f6f6a21a76b",
   "metadata": {},
   "outputs": [
    {
     "name": "stdin",
     "output_type": "stream",
     "text": [
      "Enter the lower bound:  1\n",
      "Enter the upper bound:  22\n"
     ]
    },
    {
     "name": "stdout",
     "output_type": "stream",
     "text": [
      "[2, 3, 5, 7, 11, 13, 17, 19] "
     ]
    }
   ],
   "source": [
    "# variation2 - rangial prime\n",
    "# input = 1 12\n",
    "# output = 2 3 5 7 11\n",
    "def printPrime():\n",
    "    prime = []\n",
    "    lower = int(input(\"Enter the lower bound: \"))\n",
    "    upper = int(input(\"Enter the upper bound: \"))\n",
    "    for x in range(lower, upper + 1):\n",
    "        count = 0\n",
    "        for y in range(1, x + 1):\n",
    "            if x % y == 0:\n",
    "                count += 1\n",
    "        if count == 2:\n",
    "            prime.append(y)\n",
    "    print(prime, end = \" \")\n",
    "\n",
    "printPrime()"
   ]
  },
  {
   "cell_type": "markdown",
   "id": "10134a83-26b2-401a-9cf1-dc86c97a6112",
   "metadata": {},
   "source": [
    "# Python Program to Find the Factorial of a Number"
   ]
  },
  {
   "cell_type": "code",
   "execution_count": 19,
   "id": "38db9ff7-ce56-46cb-b5dc-33e5034ddca1",
   "metadata": {},
   "outputs": [
    {
     "name": "stdin",
     "output_type": "stream",
     "text": [
      "Enter the number:  12\n"
     ]
    },
    {
     "name": "stdout",
     "output_type": "stream",
     "text": [
      "Factorial(12) : 479001600\n"
     ]
    }
   ],
   "source": [
    "# direct method\n",
    "def factorial():\n",
    "    import math\n",
    "    num = int(input(\"Enter the number: \"))\n",
    "    print(f\"Factorial({num}) : {math.factorial(num)}\")\n",
    "\n",
    "factorial()"
   ]
  },
  {
   "cell_type": "code",
   "execution_count": 20,
   "id": "019113dd-7f91-4e2b-90ea-aaf20fea4b79",
   "metadata": {},
   "outputs": [
    {
     "data": {
      "text/plain": [
       "120"
      ]
     },
     "execution_count": 20,
     "metadata": {},
     "output_type": "execute_result"
    }
   ],
   "source": [
    "# using recursion\n",
    "def factorial(num):\n",
    "    if num > 0:\n",
    "        return num * factorial(num - 1)\n",
    "    else:\n",
    "        return 1\n",
    "\n",
    "factorial(5)"
   ]
  },
  {
   "cell_type": "markdown",
   "id": "0b2dc852-f473-4bde-9f3e-dec51bc5a8d9",
   "metadata": {},
   "source": [
    "# Python Program to Display the multiplication Table"
   ]
  },
  {
   "cell_type": "code",
   "execution_count": 21,
   "id": "0eccbd82-2d89-4e1f-9fbb-1e301e607cc1",
   "metadata": {},
   "outputs": [
    {
     "name": "stdin",
     "output_type": "stream",
     "text": [
      "Enter the number:  12\n"
     ]
    },
    {
     "name": "stdout",
     "output_type": "stream",
     "text": [
      "Table of 12\n",
      "12 X 1 = 12\n",
      "12 X 2 = 24\n",
      "12 X 3 = 36\n",
      "12 X 4 = 48\n",
      "12 X 5 = 60\n",
      "12 X 6 = 72\n",
      "12 X 7 = 84\n",
      "12 X 8 = 96\n",
      "12 X 9 = 108\n",
      "12 X 10 = 120\n"
     ]
    }
   ],
   "source": [
    "def tablePrinter():\n",
    "    num = int(input(\"Enter the number: \"))\n",
    "    print(f\"Table of {num}\")\n",
    "    for x in range(1, 11):\n",
    "        print(f\"{num} X {x} = {num * x}\")\n",
    "\n",
    "tablePrinter()"
   ]
  },
  {
   "cell_type": "markdown",
   "id": "5da228f3-fc20-48a7-842e-ca948cfe3816",
   "metadata": {},
   "source": [
    "# Python Program to Print the Fibonacci sequence"
   ]
  },
  {
   "cell_type": "code",
   "execution_count": 22,
   "id": "200820d4-c0ec-40d5-9589-c3921ecef2e5",
   "metadata": {},
   "outputs": [
    {
     "name": "stdin",
     "output_type": "stream",
     "text": [
      "Enter the number:  12\n"
     ]
    },
    {
     "name": "stdout",
     "output_type": "stream",
     "text": [
      "0 1 1 2 3 5 8 "
     ]
    }
   ],
   "source": [
    "# direct\n",
    "def fib():\n",
    "    num = int(input(\"Enter the number: \"))\n",
    "    a , b = 0, 1\n",
    "    sum = 0\n",
    "    while sum <= num:\n",
    "        print(sum, end = \" \")\n",
    "        a = b\n",
    "        b = sum\n",
    "        sum = a + b\n",
    "        \n",
    "fib()"
   ]
  },
  {
   "cell_type": "code",
   "execution_count": 23,
   "id": "d21beef4-acfe-46d0-80ba-3a0c945bfd62",
   "metadata": {},
   "outputs": [],
   "source": [
    "# using recursion\n"
   ]
  },
  {
   "cell_type": "markdown",
   "id": "177329df-631a-4e9f-82a8-1ff3a2eafbd7",
   "metadata": {},
   "source": [
    "# Python Program to Check Armstrong Number"
   ]
  },
  {
   "cell_type": "code",
   "execution_count": 24,
   "id": "b637d858-9fa6-4f78-ab21-973a25040047",
   "metadata": {},
   "outputs": [
    {
     "name": "stdin",
     "output_type": "stream",
     "text": [
      "Enter the number:  153\n"
     ]
    },
    {
     "name": "stdout",
     "output_type": "stream",
     "text": [
      "Armstrong Number\n"
     ]
    }
   ],
   "source": [
    "num = input(\"Enter the number: \")\n",
    "sum = 0\n",
    "for x in num:\n",
    "    sum = sum + (int(x))**3\n",
    "if sum == int(num):\n",
    "    print(\"Armstrong Number\")\n",
    "else:\n",
    "    print(\"Not Armstrong Number\")"
   ]
  },
  {
   "cell_type": "markdown",
   "id": "ef2f6a75-d9b8-4abc-8340-8cc9e0400caf",
   "metadata": {},
   "source": [
    "# Python Program to Find Armstrong Number in an Interval"
   ]
  },
  {
   "cell_type": "code",
   "execution_count": 25,
   "id": "71bb651b-5e4c-45f4-b752-40861ddfac98",
   "metadata": {},
   "outputs": [
    {
     "name": "stdin",
     "output_type": "stream",
     "text": [
      "Enter the lower bound:  1\n",
      "Enter the upper bound:  200\n"
     ]
    },
    {
     "data": {
      "text/plain": [
       "[1, 153]"
      ]
     },
     "execution_count": 25,
     "metadata": {},
     "output_type": "execute_result"
    }
   ],
   "source": [
    "def Armstrong():\n",
    "    lower = input(\"Enter the lower bound: \")\n",
    "    upper = input(\"Enter the upper bound: \")\n",
    "    num = []\n",
    "    for x in range(int(lower), int(upper) + 1):\n",
    "        sum = 0\n",
    "        for y in str(x):\n",
    "            sum = sum + (int(y)) ** 3\n",
    "            if sum == int(x):\n",
    "                num.append(x)\n",
    "            else:\n",
    "                pass\n",
    "    \n",
    "    return num\n",
    "\n",
    "Armstrong()"
   ]
  },
  {
   "cell_type": "markdown",
   "id": "06486933-83b8-499a-9f70-c2a36ce3bf26",
   "metadata": {},
   "source": [
    "# Python Program to Find the Sum of Natural Numbers"
   ]
  },
  {
   "cell_type": "code",
   "execution_count": 26,
   "id": "f029f2bd-66e6-4829-99a1-2463ef1bf2d9",
   "metadata": {},
   "outputs": [
    {
     "data": {
      "text/plain": [
       "5050"
      ]
     },
     "execution_count": 26,
     "metadata": {},
     "output_type": "execute_result"
    }
   ],
   "source": [
    "# variation1 - n natural number\n",
    "def sumNatural(num):\n",
    "    sum = 0\n",
    "    for x in range(num + 1):\n",
    "        sum += x\n",
    "    return sum\n",
    "\n",
    "sumNatural(100)"
   ]
  },
  {
   "cell_type": "code",
   "execution_count": 27,
   "id": "2b43a9c4-f0a9-4a7b-ad6d-288198e39674",
   "metadata": {},
   "outputs": [
    {
     "data": {
      "text/plain": [
       "5050"
      ]
     },
     "execution_count": 27,
     "metadata": {},
     "output_type": "execute_result"
    }
   ],
   "source": [
    "# variation2 - range sum:\n",
    "def sumNatural(lower, upper):\n",
    "    sum = 0\n",
    "    for x in range(lower, upper + 1):\n",
    "        sum += x\n",
    "    return sum\n",
    "\n",
    "sumNatural(1, 100)"
   ]
  },
  {
   "cell_type": "markdown",
   "id": "2936eeed-611a-4852-868b-bdbd769817f0",
   "metadata": {},
   "source": [
    "# Python Program to Display Powers of 2 Using Anonymous Function"
   ]
  },
  {
   "cell_type": "code",
   "execution_count": 28,
   "id": "4489d452-9218-4a50-a9ba-1af22d9ba552",
   "metadata": {},
   "outputs": [
    {
     "data": {
      "text/plain": [
       "25"
      ]
     },
     "execution_count": 28,
     "metadata": {},
     "output_type": "execute_result"
    }
   ],
   "source": [
    "power_2 = lambda x : (x** 2)\n",
    "\n",
    "power_2(5)"
   ]
  },
  {
   "cell_type": "markdown",
   "id": "e1a89ee8-99d3-4a04-b599-624197ed9768",
   "metadata": {},
   "source": [
    "# Python Program to Find Numbers Divisible by Another Number"
   ]
  },
  {
   "cell_type": "code",
   "execution_count": 29,
   "id": "1fe8b6ce-2287-41be-9074-0d3ab684d307",
   "metadata": {},
   "outputs": [
    {
     "name": "stdin",
     "output_type": "stream",
     "text": [
      "Enter the number which is to be divided:  12\n",
      "Enter the number which will divide:  2\n"
     ]
    },
    {
     "name": "stdout",
     "output_type": "stream",
     "text": [
      "12 is divisible by 2 in 6 times\n"
     ]
    }
   ],
   "source": [
    "def divCheck():\n",
    "    num = int(input(\"Enter the number which is to be divided: \"))\n",
    "    divisor = int(input(\"Enter the number which will divide: \"))\n",
    "    if num % divisor == 0:\n",
    "        print(f\"{num} is divisible by {divisor} in {num // divisor} times\")\n",
    "    else:\n",
    "        print(\"Not divisible\")\n",
    "\n",
    "divCheck()"
   ]
  },
  {
   "cell_type": "markdown",
   "id": "f21e98bf-4bd8-4eee-94e6-8440f8b768d7",
   "metadata": {},
   "source": [
    "# Python Program to Convert Decimal to Binary, Octal and Hexadecimal"
   ]
  },
  {
   "cell_type": "code",
   "execution_count": 30,
   "id": "5800a1d6-8a72-4534-b659-ee04845f847c",
   "metadata": {},
   "outputs": [
    {
     "name": "stdin",
     "output_type": "stream",
     "text": [
      "Enter the number:  10\n"
     ]
    },
    {
     "name": "stdout",
     "output_type": "stream",
     "text": [
      "Decimal:  10\n",
      "Binary:  0b1010\n",
      "Octal:  0o12\n",
      "Hexadecimal:  0xa\n"
     ]
    }
   ],
   "source": [
    "# method1 - direct method\n",
    "def Converter():\n",
    "    num = int(input(\"Enter the number: \"))\n",
    "    print(\"Decimal: \", int(num))\n",
    "    print(\"Binary: \", bin(num))\n",
    "    print(\"Octal: \", oct(num))\n",
    "    print(\"Hexadecimal: \", hex(num))\n",
    "\n",
    "Converter()"
   ]
  },
  {
   "cell_type": "code",
   "execution_count": 34,
   "id": "602f0d67-a358-4fed-be62-888207e4ec04",
   "metadata": {},
   "outputs": [],
   "source": [
    "# method2\n"
   ]
  },
  {
   "cell_type": "markdown",
   "id": "41f9117a-71c1-4f5d-b2b4-59a08abca74c",
   "metadata": {},
   "source": [
    "# Python Program to Find ASCII Value of Character"
   ]
  },
  {
   "cell_type": "code",
   "execution_count": 49,
   "id": "26a14f32-5e5f-4771-8b2f-efef4e2b8717",
   "metadata": {},
   "outputs": [
    {
     "name": "stdin",
     "output_type": "stream",
     "text": [
      "Enter the charcter:  1\n"
     ]
    },
    {
     "name": "stdout",
     "output_type": "stream",
     "text": [
      "49\n"
     ]
    }
   ],
   "source": [
    "def asciiValue():\n",
    "    char = input(\"Enter the charcter: \")\n",
    "    print(ord(char))\n",
    "\n",
    "asciiValue()"
   ]
  },
  {
   "cell_type": "markdown",
   "id": "2abde352-8240-44d2-9df6-9bb7ae120837",
   "metadata": {},
   "source": [
    "# Python Program to Find HCF or GCD"
   ]
  },
  {
   "cell_type": "code",
   "execution_count": null,
   "id": "a9194ab8-77f9-418d-b8d2-2fcb49567257",
   "metadata": {},
   "outputs": [],
   "source": []
  },
  {
   "cell_type": "code",
   "execution_count": null,
   "id": "f946af29-b311-464e-813f-bc3076075f7f",
   "metadata": {},
   "outputs": [],
   "source": [
    "# Python Program to Find LCM"
   ]
  },
  {
   "cell_type": "code",
   "execution_count": null,
   "id": "744ef8a8-3319-449e-8c30-7b8799224a58",
   "metadata": {},
   "outputs": [],
   "source": []
  },
  {
   "cell_type": "markdown",
   "id": "22ded22e-7521-4fd1-8ca7-050921847195",
   "metadata": {},
   "source": [
    "# Python Program to Find the Factors of a Number"
   ]
  },
  {
   "cell_type": "code",
   "execution_count": 60,
   "id": "b408bd14-eb73-4a84-a3f5-937305549b41",
   "metadata": {},
   "outputs": [
    {
     "name": "stdin",
     "output_type": "stream",
     "text": [
      "Enter the number:  12\n"
     ]
    },
    {
     "name": "stdout",
     "output_type": "stream",
     "text": [
      "Factors of 12 are:  1 2 3 4 6 "
     ]
    }
   ],
   "source": [
    "def factorFinder():\n",
    "    num = int(input(\"Enter the number: \"))\n",
    "    print(f\"Factors of {num} are: \", end = \" \")\n",
    "    for x in range(1, int(num + 1 / 2)):\n",
    "        if num % x == 0:\n",
    "            print(x, end = \" \")\n",
    "        else:\n",
    "            pass\n",
    "\n",
    "factorFinder()"
   ]
  },
  {
   "cell_type": "markdown",
   "id": "4d984029-e625-4bba-9f72-20afdaf654df",
   "metadata": {},
   "source": [
    "# Python Program to Make a Simple Calculator"
   ]
  },
  {
   "cell_type": "code",
   "execution_count": null,
   "id": "edb82dd2-920c-429b-81fd-9c69c700253d",
   "metadata": {},
   "outputs": [],
   "source": []
  },
  {
   "cell_type": "code",
   "execution_count": null,
   "id": "b2e93888-567b-49fb-871e-70bd3499d798",
   "metadata": {},
   "outputs": [],
   "source": []
  },
  {
   "cell_type": "code",
   "execution_count": null,
   "id": "86f7e436-6e25-490f-8e85-3c9b39112b52",
   "metadata": {},
   "outputs": [],
   "source": []
  },
  {
   "cell_type": "code",
   "execution_count": 31,
   "id": "1efb9d16-677d-430f-83c4-1d7e494d1a4f",
   "metadata": {},
   "outputs": [],
   "source": [
    "# Python Program to Shuffle Deck of Cards\n",
    "# Python Program to Display Calendar\n",
    "# Python Program to Display Fibonacci Sequence Using Recursion\n",
    "# Python Program to Find Sum of Natural Numbers Using Recursion\n",
    "# Python Program to Find Factorial of Number Using Recursion\n",
    "# Python Program to Convert Decimal to Binary Using Recursion\n",
    "# Python Program to Add Two Matrices\n",
    "# Python Program to Transpose a Matrix\n",
    "# Python Program to Multiply Two Matrices\n",
    "# Python Program to Check Whether a String is Palindrome or Not\n",
    "# Python Program to Remove Punctuations From a String\n",
    "# Python Program to Sort Words in Alphabetic Order\n",
    "# Python Program to Illustrate Different Set Operations\n",
    "# Python Program to Count the Number of Each Vowel\n",
    "# Python Program to Merge Mails\n",
    "# Python Program to Find the Size (Resolution) of a Image\n",
    "# Python Program to Find Hash of File\n",
    "# Python Program to Create Pyramid Patterns\n",
    "# Python Program to Merge Two Dictionaries\n",
    "# Python Program to Safely Create a Nested Directory\n",
    "# Python Program to Access Index of a List Using for Loop\n",
    "# Python Program to Flatten a Nested List\n",
    "# Python Program to Slice Lists\n",
    "# Python Program to Iterate Over Dictionaries Using for Loop\n",
    "# Python Program to Sort a Dictionary by Value\n",
    "# Python Program to Check If a List is Empty\n",
    "# Python Program to Catch Multiple Exceptions in One Line\n",
    "# Python Program to Copy a File\n",
    "# Python Program to Concatenate Two Lists\n",
    "# Python Program to Check if a Key is Already Present in a Dictionary\n",
    "# Python Program to Split a List Into Evenly Sized Chunks\n",
    "# Python Program to Parse a String to a Float or Int\n",
    "# Python Program to Print Colored Text to the Terminal\n",
    "# Python Program to Convert String to Datetime\n",
    "# Python Program to Get the Last Element of the List\n",
    "# Python Program to Get a Substring of a String\n",
    "# Python Program to Print Output Without a Newline\n",
    "# Python Program Read a File Line by Line Into a List\n",
    "# Python Program to Randomly Select an Element From the List\n",
    "# Python Program to Check If a String Is a Number (Float)\n",
    "# Python Program to Count the Occurrence of an Item in a List\n",
    "# Python Program to Append to a File\n",
    "# Python Program to Delete an Element From a Dictionary\n",
    "# Python Program to Create a Long Multiline String\n",
    "# Python Program to Extract Extension From the File Name\n",
    "# Python Program to Measure the Elapsed Time in Python\n",
    "# Python Program to Get the Class Name of an Instance\n",
    "# Python Program to Convert Two Lists Into a Dictionary\n",
    "# Python Program to Differentiate Between type() and isinstance()\n",
    "# Python Program to Trim Whitespace From a String\n",
    "# Python Program to Get the File Name From the File Path\n",
    "# Python Program to Represent enum\n",
    "# Python Program to Return Multiple Values From a Function\n",
    "# Python Program to Get Line Count of a File\n",
    "# Python Program to Find All File with .txt Extension Present Inside a Directory\n",
    "# Python Program to Get File Creation and Modification Date\n",
    "# Python Program to Get the Full Path of the Current Working Directory\n",
    "# Python Program to Iterate Through Two Lists in Parallel\n",
    "# Python Program to Check the File Size\n",
    "# Python Program to Reverse a Number\n",
    "# Python Program to Compute the Power of a Number\n",
    "# Python Program to Count the Number of Digits Present In a Number\n",
    "# Python Program to Check If Two Strings are Anagram\n",
    "# Python Program to Capitalize the First Character of a String\n",
    "# Python Program to Compute all the Permutation of the String\n",
    "# Python Program to Create a Countdown Timer\n",
    "# Python Program to Count the Number of Occurrence of a Character in String\n",
    "# Python Program to Remove Duplicate Element From a List\n",
    "# Python Program to Convert Bytes to a String"
   ]
  },
  {
   "cell_type": "code",
   "execution_count": null,
   "id": "7a641851-8319-4b9a-93f0-cb7109bdaeff",
   "metadata": {},
   "outputs": [],
   "source": []
  },
  {
   "cell_type": "code",
   "execution_count": null,
   "id": "34153dc1-cb7e-483c-8d3d-41f7d7450691",
   "metadata": {},
   "outputs": [],
   "source": []
  },
  {
   "cell_type": "code",
   "execution_count": null,
   "id": "a0d53b22-89ef-4acd-9469-4ccb2ac54fc0",
   "metadata": {},
   "outputs": [],
   "source": []
  },
  {
   "cell_type": "code",
   "execution_count": null,
   "id": "a43976b3-ee99-419b-931d-009e3f4189cc",
   "metadata": {},
   "outputs": [],
   "source": []
  },
  {
   "cell_type": "code",
   "execution_count": null,
   "id": "40f2c7c6-6bf1-4baa-a400-794ffb1ecfe6",
   "metadata": {},
   "outputs": [],
   "source": []
  },
  {
   "cell_type": "code",
   "execution_count": null,
   "id": "344ec098-3b86-451a-bd33-89f07ca299dc",
   "metadata": {},
   "outputs": [],
   "source": []
  },
  {
   "cell_type": "code",
   "execution_count": null,
   "id": "b9410b77-14a1-4cc0-ae76-760f54b25504",
   "metadata": {},
   "outputs": [],
   "source": []
  }
 ],
 "metadata": {
  "kernelspec": {
   "display_name": "Python 3 (ipykernel)",
   "language": "python",
   "name": "python3"
  },
  "language_info": {
   "codemirror_mode": {
    "name": "ipython",
    "version": 3
   },
   "file_extension": ".py",
   "mimetype": "text/x-python",
   "name": "python",
   "nbconvert_exporter": "python",
   "pygments_lexer": "ipython3",
   "version": "3.11.4"
  }
 },
 "nbformat": 4,
 "nbformat_minor": 5
}

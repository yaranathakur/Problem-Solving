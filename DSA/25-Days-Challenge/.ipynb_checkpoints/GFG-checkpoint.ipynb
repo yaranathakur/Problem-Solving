{
 "cells": [
  {
   "cell_type": "markdown",
   "id": "639f7fe4-91af-4ee0-a62a-e1b82a6f4c68",
   "metadata": {},
   "source": [
    "### 1. Given an array of size N-1 such that it only contains distinct integers in the range of 1 to N. Find the missing element."
   ]
  },
  {
   "cell_type": "code",
   "execution_count": 1,
   "id": "9292def1-7851-416b-87c6-bd7e5873e63c",
   "metadata": {},
   "outputs": [
    {
     "name": "stdin",
     "output_type": "stream",
     "text": [
      "Enter the length of array :  3\n",
      " 1 2 \n"
     ]
    },
    {
     "name": "stdout",
     "output_type": "stream",
     "text": [
      "Missing number : 3\n"
     ]
    }
   ],
   "source": [
    "# method 1\n",
    "def missingNumber():\n",
    "    len = int(input(\"Enter the length of array : \"))\n",
    "    array = list(map(int, input().split()))\n",
    "    for x in range(1, len + 1):\n",
    "        if x not in array:\n",
    "            print(f\"Missing number : {x}\")\n",
    " \n",
    "missingNumber()"
   ]
  },
  {
   "cell_type": "code",
   "execution_count": 3,
   "id": "877ec680-6980-469a-88bb-b6994d3bf843",
   "metadata": {},
   "outputs": [
    {
     "name": "stdin",
     "output_type": "stream",
     "text": [
      "Enter the length of array :  2\n",
      " 1 \n"
     ]
    },
    {
     "data": {
      "text/plain": [
       "2"
      ]
     },
     "execution_count": 3,
     "metadata": {},
     "output_type": "execute_result"
    }
   ],
   "source": [
    "# method 2\n",
    "def missingNumber():\n",
    "    len = int(input(\"Enter the length of array : \"))\n",
    "    array = list(map(int, input().split()))\n",
    "    return sum(range(len + 1)) - sum(array)\n",
    "\n",
    "missingNumber()"
   ]
  },
  {
   "cell_type": "markdown",
   "id": "7f69a84c-d10e-428e-a598-42869cbe1b1a",
   "metadata": {},
   "source": [
    "### 2. Given a sorted array arr[] of distinct integers. Sort the array into a wave-like array(In Place)."
   ]
  },
  {
   "cell_type": "code",
   "execution_count": 4,
   "id": "0fffb531-9dea-4672-a1a5-dc306fafdd7b",
   "metadata": {},
   "outputs": [
    {
     "name": "stdin",
     "output_type": "stream",
     "text": [
      "Enter the length of array:  5\n"
     ]
    },
    {
     "name": "stdout",
     "output_type": "stream",
     "text": [
      "Enter the element of array: \n"
     ]
    },
    {
     "name": "stdin",
     "output_type": "stream",
     "text": [
      " 1 2 3 4 5\n"
     ]
    },
    {
     "data": {
      "text/plain": [
       "[2, 1, 4, 3, 5]"
      ]
     },
     "execution_count": 4,
     "metadata": {},
     "output_type": "execute_result"
    }
   ],
   "source": [
    "def  convertToWave():\n",
    "    # taking user input length of array\n",
    "    len = int(input(\"Enter the length of array: \"))\n",
    "    # taking user input element of array\n",
    "    print(\"Enter the element of array: \")\n",
    "    array = list(map(int, input().split()))\n",
    "\n",
    "    # using for loop to iterate over the elemnts in step of 2\n",
    "    for x in range(0, len - 1, 2):\n",
    "        array[x], array[x + 1] = array[x + 1], array[x]\n",
    "    return array\n",
    "\n",
    "convertToWave()"
   ]
  },
  {
   "cell_type": "markdown",
   "id": "cbfbd329-6722-408d-8a30-b36e7dca0676",
   "metadata": {},
   "source": [
    "### 3. Given an array arr of n elements that is first strictly increasing and then maybe strictly decreasing, find the maximum element in the array. \n",
    "Note: If the array is increasing then just print the last element will be the maximum value."
   ]
  },
  {
   "cell_type": "code",
   "execution_count": 5,
   "id": "81f164bc-42b5-4561-ba22-995e978b677c",
   "metadata": {},
   "outputs": [
    {
     "name": "stdin",
     "output_type": "stream",
     "text": [
      "Enter the length of array:  4\n"
     ]
    },
    {
     "name": "stdout",
     "output_type": "stream",
     "text": [
      "Enter the element in Strictly Increasing and Strictly Decreasing or Increasing: \n"
     ]
    },
    {
     "name": "stdin",
     "output_type": "stream",
     "text": [
      " 1 2 3 4\n"
     ]
    },
    {
     "data": {
      "text/plain": [
       "4"
      ]
     },
     "execution_count": 5,
     "metadata": {},
     "output_type": "execute_result"
    }
   ],
   "source": [
    "# method 1 (O(n))\n",
    "def findMaximum():\n",
    "    len = int(input(\"Enter the length of array: \"))\n",
    "    print(\"Enter the element in Strictly Increasing and Strictly Decreasing or Increasing: \")\n",
    "    array = list(map(int, input().split()))\n",
    "    return max(array)\n",
    "\n",
    "findMaximum()"
   ]
  },
  {
   "cell_type": "code",
   "execution_count": 6,
   "id": "04fe426f-2849-4c03-8271-16903ef9923c",
   "metadata": {},
   "outputs": [
    {
     "name": "stdin",
     "output_type": "stream",
     "text": [
      "Enter the length of array:  5\n"
     ]
    },
    {
     "name": "stdout",
     "output_type": "stream",
     "text": [
      "Enter the element in Strictly Increasing and Strictly Decreasing or Increasing: \n"
     ]
    },
    {
     "name": "stdin",
     "output_type": "stream",
     "text": [
      " 1 4 5 3 2\n"
     ]
    },
    {
     "data": {
      "text/plain": [
       "5"
      ]
     },
     "execution_count": 6,
     "metadata": {},
     "output_type": "execute_result"
    }
   ],
   "source": [
    "# method 2 (O(nlogn))\n",
    "def findMaximum():\n",
    "    len = int(input(\"Enter the length of array: \"))\n",
    "    print(\"Enter the element in Strictly Increasing and Strictly Decreasing or Increasing: \")\n",
    "    array = list(map(int, input().split()))\n",
    "    array = sorted(array)\n",
    "    return array[-1]\n",
    "\n",
    "findMaximum()"
   ]
  },
  {
   "cell_type": "markdown",
   "id": "b28c19e2",
   "metadata": {},
   "source": [
    "### 4. Given an array arr[] of size N and an integer K. Find the maximum for each and every contiguous subarray of size K."
   ]
  },
  {
   "cell_type": "code",
   "execution_count": 8,
   "id": "1d62fe1a",
   "metadata": {},
   "outputs": [
    {
     "name": "stdin",
     "output_type": "stream",
     "text": [
      "Enter the length of array:  4\n",
      "Enter the length of subarray:  2\n",
      "Enter the element of array:  1 2 3 4\n"
     ]
    },
    {
     "name": "stdout",
     "output_type": "stream",
     "text": [
      "2 3 4 "
     ]
    }
   ],
   "source": [
    "def max_of_subarrays():\n",
    "    len = int(input(\"Enter the length of array: \"))\n",
    "    sub_len = int(input(\"Enter the length of subarray: \"))\n",
    "    array = list(map(int, input(\"Enter the element of array: \").split()))\n",
    "    for x in range(len - (sub_len - 1)):\n",
    "        sub_array = array[x : x + sub_len]\n",
    "        print(max(sub_array), end = \" \")\n",
    "\n",
    "max_of_subarrays()"
   ]
  },
  {
   "cell_type": "code",
   "execution_count": 9,
   "id": "944b2868",
   "metadata": {},
   "outputs": [
    {
     "name": "stdin",
     "output_type": "stream",
     "text": [
      "Enter the length of array:  6\n",
      "Enter the length of subarray:  3\n",
      "Enter the element of array:  1 2 3 4 5 6\n"
     ]
    },
    {
     "name": "stdout",
     "output_type": "stream",
     "text": [
      "3 4 5 6 "
     ]
    }
   ],
   "source": [
    "max_of_subarrays()"
   ]
  },
  {
   "cell_type": "code",
   "execution_count": 10,
   "id": "6641c8c4",
   "metadata": {},
   "outputs": [
    {
     "name": "stdin",
     "output_type": "stream",
     "text": [
      "Enter the length of array:  6\n",
      "Enter the length of subarray:  3\n",
      "Enter the element of array:  1 22 45 76 23 12\n"
     ]
    },
    {
     "name": "stdout",
     "output_type": "stream",
     "text": [
      "45 76 76 76 "
     ]
    }
   ],
   "source": [
    "max_of_subarrays()"
   ]
  },
  {
   "cell_type": "code",
   "execution_count": 13,
   "id": "b4bdd16c-28f7-4f58-bfd9-609e9cf6e532",
   "metadata": {},
   "outputs": [
    {
     "name": "stdout",
     "output_type": "stream",
     "text": [
      "2\n",
      "3\n",
      "4\n"
     ]
    }
   ],
   "source": [
    "# GFG\n",
    "arr = [1, 2, 3, 4]\n",
    "n = 4\n",
    "k = 2\n",
    "for x in range(n - k + 1):\n",
    "    print(max(arr[x : x + k]))"
   ]
  },
  {
   "cell_type": "markdown",
   "id": "1c4eb0cb-684f-455d-ab84-bd33b3290cfc",
   "metadata": {},
   "source": [
    "### 5. Given an integer array coins[ ] of size N representing different denominations of currency and an integer sum, find the number of ways you can make sum by using different combinations from coins[ ]. "
   ]
  },
  {
   "cell_type": "code",
   "execution_count": null,
   "id": "5c32c8a3",
   "metadata": {},
   "outputs": [],
   "source": [
    "def count():\n",
    "    # taking array input\n",
    "    array = list(map(int, input(\"Enter the element of array: \").split()))\n",
    "    # taking sum inputgrid \n",
    "    sum = int(input(\"Enter the sum: \"))\n",
    "    for x in range(len(array) - 1, 0, -1):\n",
    "        "
   ]
  },
  {
   "cell_type": "code",
   "execution_count": null,
   "id": "66ab2d0b-d092-4deb-ab62-aedec0f9057d",
   "metadata": {},
   "outputs": [],
   "source": [
    "count()"
   ]
  },
  {
   "cell_type": "markdown",
   "id": "9d048994-467f-422c-8b98-50894b2aea60",
   "metadata": {},
   "source": [
    "### 6. Given two strings a and b consisting of lowercase characters. The task is to check whether two given strings are an anagram of each other or not. An anagram of a string is another string that contains the same characters, only the order of characters can be different. For example, act and tac are an anagram of each other."
   ]
  },
  {
   "cell_type": "code",
   "execution_count": 14,
   "id": "21b08466-0fd8-4c40-85f3-904d5554ee24",
   "metadata": {},
   "outputs": [
    {
     "data": {
      "text/plain": [
       "'YES'"
      ]
     },
     "execution_count": 14,
     "metadata": {},
     "output_type": "execute_result"
    }
   ],
   "source": [
    "def isAnagram(a, b):\n",
    "    a = a.lower()\n",
    "    b = b.lower()\n",
    "    isAna = \"\"\n",
    "    for x in a:\n",
    "        if x not in b:\n",
    "            isAna = \"NO\"\n",
    "            break\n",
    "        else:\n",
    "            isAna = \"YES\"\n",
    "    return isAna\n",
    "    \n",
    "isAnagram('geeksforgeeks', 'forgeeksgeeks')"
   ]
  },
  {
   "cell_type": "code",
   "execution_count": 15,
   "id": "05914823-ae56-40c5-9cb7-83417ca74343",
   "metadata": {},
   "outputs": [
    {
     "data": {
      "text/plain": [
       "True"
      ]
     },
     "execution_count": 15,
     "metadata": {},
     "output_type": "execute_result"
    }
   ],
   "source": [
    "def isAnagram(a,b):\n",
    "    if len(a) != len(b):\n",
    "        return False\n",
    "    elif sorted(a) == sorted(b):\n",
    "        return True\n",
    "    else:\n",
    "        return False\n",
    "\n",
    "isAnagram(\"yara\", \"aray\")"
   ]
  },
  {
   "cell_type": "markdown",
   "id": "9de71f9a-8f9e-40fd-80fb-de8e46f8e2e5",
   "metadata": {},
   "source": [
    "### 7. The task is to complete the insert() function which is used to implement Insertion Sort."
   ]
  },
  {
   "cell_type": "code",
   "execution_count": null,
   "id": "b205a923-68e9-4e43-a9aa-18299d6e46bd",
   "metadata": {},
   "outputs": [],
   "source": [
    "def insertionSort():\n",
    "    arr = list(map(int, input(\"Enter the element of array: \").split()))\n",
    "    l = len(arr)\n",
    "    for i in range(1, l + 1):\n",
    "        key = arr[i]\n",
    "        j = i - 1\n",
    "        while j >= 0 and key < arr[j]:\n",
    "            arr[j + 1] = arr[j]\n",
    "            j = j - 1\n",
    "        arr[j + 1] = key\n",
    "    return arr\n",
    "\n",
    "insertionSort()"
   ]
  },
  {
   "cell_type": "code",
   "execution_count": null,
   "id": "3b189601-c0bf-4835-8c78-176b07cd83cc",
   "metadata": {},
   "outputs": [],
   "source": [
    "arr"
   ]
  },
  {
   "cell_type": "markdown",
   "id": "2f4cf832-ece8-4f1a-a528-f28d2f560d28",
   "metadata": {},
   "source": [
    "### 8. Write a program to find the transpose of a square matrix of size N*N. Transpose of a matrix is obtained by changing rows to columns and columns to rows."
   ]
  },
  {
   "cell_type": "code",
   "execution_count": null,
   "id": "dffa9465-68ac-457b-bbd6-d5ac4ed9db83",
   "metadata": {},
   "outputs": [],
   "source": [
    "def transposeMatrix():\n",
    "    dim = int(input(\"Enter the number of equal rows and columns: \"))\n",
    "    print(\"Input Matrix: \")\n",
    "    matrix = []\n",
    "    for i in range(dim):\n",
    "        row = []\n",
    "        for j in range(dim):\n",
    "            row.append(int(input()))\n",
    "        matrix.append(row)\n",
    "    print(\"Transpose of Matrix: \")\n",
    "\n",
    "    \n",
    "    matrix_transpose = []\n",
    "    for i in range(dim):\n",
    "        row = []\n",
    "        for j in range(dim):\n",
    "            row.append(0)\n",
    "        matrix_transpose.append(row)\n",
    "\n",
    "    # changing the row to col and col to row\n",
    "    for i in range(dim):\n",
    "        for j in range(dim):\n",
    "            matrix_transpose[j][i] = matrix[i][j]\n",
    "\n",
    "    for x in matrix_transpose:\n",
    "        print(x)\n",
    "\n",
    "transposeMatrix()"
   ]
  },
  {
   "cell_type": "code",
   "execution_count": null,
   "id": "f0070088-146a-4d13-9354-f2cd03985a76",
   "metadata": {},
   "outputs": [],
   "source": [
    "def transpose(matrix, n):\n",
    "    \n",
    "    m_transpose = [[0 for i in range(n)] for j in range(n)]\n",
    "    \n",
    "    for i in range(n):\n",
    "        for j in range(n):\n",
    "            m_transpose[j][i] = matrix[i][j]\n",
    "            \n",
    "    return m_transpose\n",
    "\n",
    "m = [[1, 1, 1, 1], \n",
    "     [2, 2, 2, 2], \n",
    "     [3, 3, 3, 3], \n",
    "     [4, 4, 4, 4]]\n",
    "n = 4\n",
    "transpose(m, n)"
   ]
  },
  {
   "cell_type": "code",
   "execution_count": null,
   "id": "99a06d14-0e75-41e1-b976-07d187b4b4df",
   "metadata": {},
   "outputs": [],
   "source": [
    "def transpose(matrix, n):\n",
    "    \n",
    "    m_transpose = [[0 for i in range(n)] for j in range(n)]\n",
    "    \n",
    "    for i in range(n):\n",
    "        for j in range(n):\n",
    "            m_transpose[j][i] = matrix[i][j]\n",
    "            \n",
    "    for row in m_transpose:\n",
    "        print(row)\n",
    "\n",
    "m = [[1, 1, 1, 1], \n",
    "     [2, 2, 2, 2], \n",
    "     [3, 3, 3, 3], \n",
    "     [4, 4, 4, 4]]\n",
    "n = 4\n",
    "transpose(m, n)"
   ]
  },
  {
   "cell_type": "markdown",
   "id": "4d1e58ab-3763-4837-9fb5-201285bbe48e",
   "metadata": {},
   "source": [
    "### 9. Given a square matrix of size N x N. The task is to rotate it by 90 degrees in anti-clockwise direction without using any extra space. "
   ]
  },
  {
   "cell_type": "code",
   "execution_count": null,
   "id": "a13ff34c-7c14-4203-8efa-dd767867eec7",
   "metadata": {},
   "outputs": [],
   "source": [
    "mat = [[1, 2, 3], \n",
    "       [4, 5, 6],\n",
    "      [7, 8, 9]]"
   ]
  },
  {
   "cell_type": "code",
   "execution_count": null,
   "id": "c1461417-5e53-4745-8111-6bf2ecdedd23",
   "metadata": {},
   "outputs": [],
   "source": [
    "mat = [[1, 2, 3], \n",
    "       [4, 5, 6],\n",
    "      [7, 8, 9]]\n",
    "\n",
    "def rotateby90(matrix, len):\n",
    "    # reverse of matrix\n",
    "    for i in range(len):\n",
    "        matrix[i].reverse()\n",
    "    # transpose of matrix\n",
    "    for i in range(len):\n",
    "        for j in range(i, len):\n",
    "            matrix[i][j], matrix[j][i] = matrix[j][i], matrix[i][j]\n",
    "    return matrix\n",
    "\n",
    "rotateby90(mat, len(mat))"
   ]
  },
  {
   "cell_type": "code",
   "execution_count": null,
   "id": "da490bf2-5c45-45ec-80fb-34e975be51d7",
   "metadata": {},
   "outputs": [],
   "source": [
    "rotateby90(mat, 3)"
   ]
  },
  {
   "cell_type": "code",
   "execution_count": null,
   "id": "c01caf7a-d9c4-4b8a-80b4-e6ca6f4e0854",
   "metadata": {},
   "outputs": [],
   "source": [
    "mat = [[1, 2, 3], \n",
    "       [4, 5, 6], \n",
    "       [7, 8, 9]]\n",
    "\n",
    "for i in range(3):\n",
    "    for j in range(3):\n",
    "        temp = mat[i][j]\n",
    "        mat[i][j]= mat[j][i]\n",
    "        mat[j][i] = temp\n",
    "\n",
    "mat"
   ]
  },
  {
   "cell_type": "markdown",
   "id": "66c92367-be57-4b71-8d78-b84d5874bd56",
   "metadata": {},
   "source": [
    "###  10. A matrix is constructed of size n*n. such that Mi,j= i+j. Count the number of cells having value q."
   ]
  },
  {
   "cell_type": "code",
   "execution_count": 29,
   "id": "4389e134-c1e7-4e24-8c69-4e1403feaf2a",
   "metadata": {},
   "outputs": [
    {
     "data": {
      "text/plain": [
       "2"
      ]
     },
     "execution_count": 29,
     "metadata": {},
     "output_type": "execute_result"
    }
   ],
   "source": [
    "def sumMatrix(n, q):\n",
    "    matrix = []\n",
    "    count = 0\n",
    "    for i in range(1, n + 1):\n",
    "        row = [ i + j for  j in range(1, n + 1)]\n",
    "        if q in row:\n",
    "            count += 1\n",
    "        matrix.append(row)\n",
    "    return count\n",
    "    \n",
    "sumMatrix(4, 7)"
   ]
  },
  {
   "cell_type": "code",
   "execution_count": 30,
   "id": "744bfe3d-7f57-4c56-bf72-3b8890ac64ca",
   "metadata": {},
   "outputs": [
    {
     "data": {
      "text/plain": [
       "3"
      ]
     },
     "execution_count": 30,
     "metadata": {},
     "output_type": "execute_result"
    }
   ],
   "source": [
    "sumMatrix(5, 4)"
   ]
  },
  {
   "cell_type": "code",
   "execution_count": null,
   "id": "b729de7a-e722-42cc-9ee1-2853bd438c51",
   "metadata": {},
   "outputs": [],
   "source": []
  },
  {
   "cell_type": "code",
   "execution_count": null,
   "id": "808cb8a1-1fc6-4d1b-9507-e0e7606dafc8",
   "metadata": {},
   "outputs": [],
   "source": []
  },
  {
   "cell_type": "markdown",
   "id": "df579ef6-c0f6-4568-b1c2-b96c4ac5c0c0",
   "metadata": {},
   "source": [
    "### 11. Given a 2D matrix M of dimensions RxC. Find the maximum sum submatrix in it."
   ]
  },
  {
   "cell_type": "code",
   "execution_count": null,
   "id": "1a6dfa4d-53e0-4df9-a526-77027162f163",
   "metadata": {},
   "outputs": [],
   "source": []
  },
  {
   "cell_type": "markdown",
   "id": "e92ea462-a625-473a-9fbf-000675a5d5ca",
   "metadata": {},
   "source": [
    "# Given a string, the task is to count all palindromic sub-strings present in it. Length of palindrome sub-string must be greater than or equal to 2. "
   ]
  },
  {
   "cell_type": "code",
   "execution_count": 28,
   "id": "b1f64fcb-56d1-4f13-8d20-8b5832f85e5c",
   "metadata": {},
   "outputs": [
    {
     "data": {
      "text/plain": [
       "4"
      ]
     },
     "execution_count": 28,
     "metadata": {},
     "output_type": "execute_result"
    }
   ],
   "source": [
    "a = 'abbaeae'\n",
    "def CountPS(a):\n",
    "    sub_a = []\n",
    "    for x in range(len(a)):\n",
    "        for y in range(len(a)):\n",
    "            sub = str(a[x : y + 1])\n",
    "            if len(sub) > 1 and sub == sub[::-1]:\n",
    "                sub_a.append(sub)\n",
    "    return len(sub_a)\n",
    "\n",
    "CountPS(a)"
   ]
  },
  {
   "cell_type": "code",
   "execution_count": 29,
   "id": "25cc7b23-e204-4dc7-b93c-0c879e164262",
   "metadata": {},
   "outputs": [
    {
     "data": {
      "text/plain": [
       "4"
      ]
     },
     "execution_count": 29,
     "metadata": {},
     "output_type": "execute_result"
    }
   ],
   "source": [
    "a = 'abbaeae'\n",
    "def CountPS(a):\n",
    "    count = 0\n",
    "    for x in range(len(a)):\n",
    "        for y in range(len(a)):\n",
    "            sub = str(a[x : y + 1])\n",
    "            if len(sub) > 1 and sub == sub[::-1]:\n",
    "                count += 1\n",
    "    return count\n",
    "\n",
    "CountPS(a)"
   ]
  },
  {
   "cell_type": "code",
   "execution_count": null,
   "id": "00c1c749-d4fd-4fb2-8667-14b5a291a3a9",
   "metadata": {},
   "outputs": [],
   "source": [
    "def maximumSumRectangle(n, q):\n",
    "    matrix = "
   ]
  }
 ],
 "metadata": {
  "kernelspec": {
   "display_name": "Python 3 (ipykernel)",
   "language": "python",
   "name": "python3"
  },
  "language_info": {
   "codemirror_mode": {
    "name": "ipython",
    "version": 3
   },
   "file_extension": ".py",
   "mimetype": "text/x-python",
   "name": "python",
   "nbconvert_exporter": "python",
   "pygments_lexer": "ipython3",
   "version": "3.11.4"
  }
 },
 "nbformat": 4,
 "nbformat_minor": 5
}

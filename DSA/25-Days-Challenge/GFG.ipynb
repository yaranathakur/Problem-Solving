{
 "cells": [
  {
   "cell_type": "markdown",
   "id": "639f7fe4-91af-4ee0-a62a-e1b82a6f4c68",
   "metadata": {},
   "source": [
    "# Given an array of size N-1 such that it only contains distinct integers in the range of 1 to N. Find the missing element."
   ]
  },
  {
   "cell_type": "code",
   "execution_count": null,
   "id": "9292def1-7851-416b-87c6-bd7e5873e63c",
   "metadata": {},
   "outputs": [],
   "source": [
    "# method 1\n",
    "def missingNumber():\n",
    "    len = int(input(\"Enter the length of array : \"))\n",
    "    array = list(map(int, input().split()))\n",
    "    for x in range(1, len + 1):\n",
    "        if x not in array:\n",
    "            print(f\"Missing number : {x}\")\n",
    " \n",
    "missingNumber()"
   ]
  },
  {
   "cell_type": "code",
   "execution_count": null,
   "id": "877ec680-6980-469a-88bb-b6994d3bf843",
   "metadata": {},
   "outputs": [],
   "source": [
    "# method 2\n",
    "def missingNumber():\n",
    "    len = int(input(\"Enter the length of array : \"))\n",
    "    array = list(map(int, input().split()))\n",
    "    return sum(range(len + 1)) - sum(array)\n",
    "\n",
    "missingNumber()"
   ]
  },
  {
   "cell_type": "markdown",
   "id": "7f69a84c-d10e-428e-a598-42869cbe1b1a",
   "metadata": {},
   "source": [
    "# Given a sorted array arr[] of distinct integers. Sort the array into a wave-like array(In Place)."
   ]
  },
  {
   "cell_type": "code",
   "execution_count": 3,
   "id": "0fffb531-9dea-4672-a1a5-dc306fafdd7b",
   "metadata": {},
   "outputs": [
    {
     "name": "stdout",
     "output_type": "stream",
     "text": [
      "Enter the length of array:  4\n"
     ]
    },
    {
     "name": "stdout",
     "output_type": "stream",
     "text": [
      "Enter the element of array: \n"
     ]
    },
    {
     "name": "stdout",
     "output_type": "stream",
     "text": [
      " 1 2 3 4\n"
     ]
    },
    {
     "data": {
      "text/plain": [
       "[2, 1, 4, 3]"
      ]
     },
     "execution_count": 3,
     "metadata": {},
     "output_type": "execute_result"
    }
   ],
   "source": [
    "def  convertToWave():\n",
    "    # taking user input length of array\n",
    "    len = int(input(\"Enter the length of array: \"))\n",
    "    # taking user input element of array\n",
    "    print(\"Enter the element of array: \")\n",
    "    array = list(map(int, input().split()))\n",
    "\n",
    "    # using for loop to iterate over the elemnts in step of 2\n",
    "    for x in range(0, len - 1, 2):\n",
    "        array[x], array[x + 1] = array[x + 1], array[x]\n",
    "    return array\n",
    "\n",
    "convertToWave()"
   ]
  },
  {
   "cell_type": "markdown",
   "id": "cbfbd329-6722-408d-8a30-b36e7dca0676",
   "metadata": {},
   "source": [
    "# Given an array arr of n elements that is first strictly increasing and then maybe strictly decreasing, find the maximum element in the array. \n",
    "Note: If the array is increasing then just print the last element will be the maximum value."
   ]
  },
  {
   "cell_type": "code",
   "execution_count": 3,
   "id": "81f164bc-42b5-4561-ba22-995e978b677c",
   "metadata": {},
   "outputs": [
    {
     "name": "stdout",
     "output_type": "stream",
     "text": [
      "Enter the length of array:  6\n"
     ]
    },
    {
     "name": "stdout",
     "output_type": "stream",
     "text": [
      "Enter the element in Strictly Increasing and Strictly Decreasing or Increasing: \n"
     ]
    },
    {
     "name": "stdout",
     "output_type": "stream",
     "text": [
      " 1 2 6 7 4 3\n"
     ]
    },
    {
     "data": {
      "text/plain": [
       "7"
      ]
     },
     "execution_count": 3,
     "metadata": {},
     "output_type": "execute_result"
    }
   ],
   "source": [
    "# method 1 (O(n))\n",
    "def findMaximum():\n",
    "    len = int(input(\"Enter the length of array: \"))\n",
    "    print(\"Enter the element in Strictly Increasing and Strictly Decreasing or Increasing: \")\n",
    "    array = list(map(int, input().split()))\n",
    "    return max(array)\n",
    "\n",
    "findMaximum()"
   ]
  },
  {
   "cell_type": "code",
   "execution_count": 5,
   "id": "04fe426f-2849-4c03-8271-16903ef9923c",
   "metadata": {},
   "outputs": [
    {
     "name": "stdout",
     "output_type": "stream",
     "text": [
      "Enter the length of array:  6\n"
     ]
    },
    {
     "name": "stdout",
     "output_type": "stream",
     "text": [
      "Enter the element in Strictly Increasing and Strictly Decreasing or Increasing: \n"
     ]
    },
    {
     "name": "stdout",
     "output_type": "stream",
     "text": [
      " 1 2 5 6 7 4\n"
     ]
    },
    {
     "data": {
      "text/plain": [
       "7"
      ]
     },
     "execution_count": 5,
     "metadata": {},
     "output_type": "execute_result"
    }
   ],
   "source": [
    "# method 2 (O(nlogn))\n",
    "def findMaximum():\n",
    "    len = int(input(\"Enter the length of array: \"))\n",
    "    print(\"Enter the element in Strictly Increasing and Strictly Decreasing or Increasing: \")\n",
    "    array = list(map(int, input().split()))\n",
    "    array = sorted(array)\n",
    "    return array[-1]\n",
    "\n",
    "findMaximum()"
   ]
  },
  {
   "cell_type": "markdown",
   "id": "b28c19e2",
   "metadata": {},
   "source": [
    "# Given an array arr[] of size N and an integer K. Find the maximum for each and every contiguous subarray of size K."
   ]
  },
  {
   "cell_type": "code",
   "execution_count": 10,
   "id": "1d62fe1a",
   "metadata": {},
   "outputs": [],
   "source": [
    "def max_of_subarrays():\n",
    "    len = int(input(\"Enter the length of array: \"))\n",
    "    sub_len = int(input(\"Enter the length of subarray: \"))\n",
    "    array = list(map(int, input().split()))\n",
    "    for x in range(len - (sub_len - 1)):\n",
    "        sub_array = array[x : x + sub_len]\n",
    "        print(max(sub_array), end = \" \")\n",
    "\n",
    "max_of_subarrays()\n"
   ]
  },
  {
   "cell_type": "code",
   "execution_count": 11,
   "id": "944b2868",
   "metadata": {},
   "outputs": [
    {
     "name": "stdout",
     "output_type": "stream",
     "text": [
      "3 4 5 6 "
     ]
    }
   ],
   "source": [
    "max_of_subarrays()"
   ]
  },
  {
   "cell_type": "code",
   "execution_count": 12,
   "id": "6641c8c4",
   "metadata": {},
   "outputs": [
    {
     "name": "stdout",
     "output_type": "stream",
     "text": [
      "3 3 4 5 5 5 6 "
     ]
    }
   ],
   "source": [
    "max_of_subarrays()"
   ]
  },
  {
   "cell_type": "markdown",
   "id": "1c4eb0cb-684f-455d-ab84-bd33b3290cfc",
   "metadata": {},
   "source": [
    "# Given an integer array coins[ ] of size N representing different denominations of currency and an integer sum, find the number of ways you can make sum by using different combinations from coins[ ]. "
   ]
  },
  {
   "cell_type": "code",
   "execution_count": 7,
   "id": "5c32c8a3",
   "metadata": {},
   "outputs": [],
   "source": [
    "def count():\n",
    "    # taking array input\n",
    "    array = list(map(int, input(\"Enter the element of array: \").split()))\n",
    "    # taking sum inputgrid \n",
    "    sum = int(input(\"Enter the sum: \"))\n",
    "    for x in range(len(array) - 1, 0, -1):\n",
    "        "
   ]
  },
  {
   "cell_type": "code",
   "execution_count": 8,
   "id": "66ab2d0b-d092-4deb-ab62-aedec0f9057d",
   "metadata": {},
   "outputs": [
    {
     "name": "stdin",
     "output_type": "stream",
     "text": [
      "Enter the element of array:  1 2 3 4\n",
      "Enter the sum:  4\n"
     ]
    },
    {
     "data": {
      "text/plain": [
       "0"
      ]
     },
     "execution_count": 8,
     "metadata": {},
     "output_type": "execute_result"
    }
   ],
   "source": [
    "count()"
   ]
  },
  {
   "cell_type": "markdown",
   "id": "9d048994-467f-422c-8b98-50894b2aea60",
   "metadata": {},
   "source": [
    "# Given two strings a and b consisting of lowercase characters. The task is to check whether two given strings are an anagram of each other or not. An anagram of a string is another string that contains the same characters, only the order of characters can be different. For example, act and tac are an anagram of each other."
   ]
  },
  {
   "cell_type": "code",
   "execution_count": 7,
   "id": "21b08466-0fd8-4c40-85f3-904d5554ee24",
   "metadata": {},
   "outputs": [
    {
     "data": {
      "text/plain": [
       "'YES'"
      ]
     },
     "execution_count": 7,
     "metadata": {},
     "output_type": "execute_result"
    }
   ],
   "source": [
    "def isAnagram(a, b):\n",
    "    a = a.lower()\n",
    "    b = b.lower()\n",
    "    isAna = \"\"\n",
    "    for x in a:\n",
    "        if x not in b:\n",
    "            isAna = \"NO\"\n",
    "            break\n",
    "        else:\n",
    "            isAna = \"YES\"\n",
    "    return isAna\n",
    "    \n",
    "isAnagram('geeksforgeeks', 'forgeeksgeeks')"
   ]
  },
  {
   "cell_type": "code",
   "execution_count": 25,
   "id": "05914823-ae56-40c5-9cb7-83417ca74343",
   "metadata": {},
   "outputs": [
    {
     "data": {
      "text/plain": [
       "True"
      ]
     },
     "execution_count": 25,
     "metadata": {},
     "output_type": "execute_result"
    }
   ],
   "source": [
    "def isAnagram(a,b):\n",
    "    if len(a) != len(b):\n",
    "        return False\n",
    "    elif sorted(a) == sorted(b):\n",
    "        return True\n",
    "    else:\n",
    "        return False\n",
    "\n",
    "isAnagram(\"yara\", \"aray\")"
   ]
  },
  {
   "cell_type": "markdown",
   "id": "9de71f9a-8f9e-40fd-80fb-de8e46f8e2e5",
   "metadata": {},
   "source": [
    "# The task is to complete the insert() function which is used to implement Insertion Sort."
   ]
  },
  {
   "cell_type": "code",
   "execution_count": 1,
   "id": "2c86ede0-0cb1-4aad-9afe-8f4738a2ca88",
   "metadata": {},
   "outputs": [],
   "source": [
    "len = 4\n",
    "arr = [4, 3, 2, 1]\n",
    "def insertionSort(arr, len):\n",
    "    for x in range(len):\n",
    "        if arr[x] > arr[x + 1]:\n",
    "            arr[x], arr[x + 1] = arr[x + 1], arr[x]\n",
    "        else:\n",
    "            pass"
   ]
  },
  {
   "cell_type": "code",
   "execution_count": 1,
   "id": "b205a923-68e9-4e43-a9aa-18299d6e46bd",
   "metadata": {},
   "outputs": [
    {
     "name": "stdin",
     "output_type": "stream",
     "text": [
      "Enter the element of array:  1 2 3 4\n"
     ]
    },
    {
     "ename": "IndexError",
     "evalue": "list index out of range",
     "output_type": "error",
     "traceback": [
      "\u001b[1;31m---------------------------------------------------------------------------\u001b[0m",
      "\u001b[1;31mIndexError\u001b[0m                                Traceback (most recent call last)",
      "Cell \u001b[1;32mIn[1], line 13\u001b[0m\n\u001b[0;32m     10\u001b[0m         arr[j \u001b[38;5;241m+\u001b[39m \u001b[38;5;241m1\u001b[39m] \u001b[38;5;241m=\u001b[39m key\n\u001b[0;32m     11\u001b[0m     \u001b[38;5;28;01mreturn\u001b[39;00m arr\n\u001b[1;32m---> 13\u001b[0m \u001b[43minsertionSort\u001b[49m\u001b[43m(\u001b[49m\u001b[43m)\u001b[49m\n",
      "Cell \u001b[1;32mIn[1], line 5\u001b[0m, in \u001b[0;36minsertionSort\u001b[1;34m()\u001b[0m\n\u001b[0;32m      3\u001b[0m l \u001b[38;5;241m=\u001b[39m \u001b[38;5;28mlen\u001b[39m(arr)\n\u001b[0;32m      4\u001b[0m \u001b[38;5;28;01mfor\u001b[39;00m i \u001b[38;5;129;01min\u001b[39;00m \u001b[38;5;28mrange\u001b[39m(\u001b[38;5;241m1\u001b[39m, l \u001b[38;5;241m+\u001b[39m \u001b[38;5;241m1\u001b[39m):\n\u001b[1;32m----> 5\u001b[0m     key \u001b[38;5;241m=\u001b[39m \u001b[43marr\u001b[49m\u001b[43m[\u001b[49m\u001b[43mi\u001b[49m\u001b[43m]\u001b[49m\n\u001b[0;32m      6\u001b[0m     j \u001b[38;5;241m=\u001b[39m i \u001b[38;5;241m-\u001b[39m \u001b[38;5;241m1\u001b[39m\n\u001b[0;32m      7\u001b[0m     \u001b[38;5;28;01mwhile\u001b[39;00m j \u001b[38;5;241m>\u001b[39m\u001b[38;5;241m=\u001b[39m \u001b[38;5;241m0\u001b[39m \u001b[38;5;129;01mand\u001b[39;00m key \u001b[38;5;241m<\u001b[39m arr[j]:\n",
      "\u001b[1;31mIndexError\u001b[0m: list index out of range"
     ]
    }
   ],
   "source": [
    "def insertionSort():\n",
    "    arr = list(map(int, input(\"Enter the element of array: \").split()))\n",
    "    l = len(arr)\n",
    "    for i in range(1, l + 1):\n",
    "        key = arr[i]\n",
    "        j = i - 1\n",
    "        while j >= 0 and key < arr[j]:\n",
    "            arr[j + 1] = arr[j]\n",
    "            j = j - 1\n",
    "        arr[j + 1] = key\n",
    "    return arr\n",
    "\n",
    "insertionSort()"
   ]
  },
  {
   "cell_type": "code",
   "execution_count": null,
   "id": "3b189601-c0bf-4835-8c78-176b07cd83cc",
   "metadata": {},
   "outputs": [],
   "source": [
    "arr"
   ]
  },
  {
   "cell_type": "markdown",
   "id": "2f4cf832-ece8-4f1a-a528-f28d2f560d28",
   "metadata": {},
   "source": [
    "# Write a program to find the transpose of a square matrix of size N*N. Transpose of a matrix is obtained by changing rows to columns and columns to rows."
   ]
  },
  {
   "cell_type": "code",
   "execution_count": 101,
   "id": "dffa9465-68ac-457b-bbd6-d5ac4ed9db83",
   "metadata": {},
   "outputs": [
    {
     "name": "stdin",
     "output_type": "stream",
     "text": [
      "Enter the number of equal rows and columns:  2\n"
     ]
    },
    {
     "name": "stdout",
     "output_type": "stream",
     "text": [
      "Input Matrix: \n"
     ]
    },
    {
     "name": "stdin",
     "output_type": "stream",
     "text": [
      " 1\n",
      " 2\n",
      " 3\n",
      " 4\n"
     ]
    },
    {
     "name": "stdout",
     "output_type": "stream",
     "text": [
      "Transpose of Matrix: \n",
      "[1, 3]\n",
      "[2, 4]\n"
     ]
    }
   ],
   "source": [
    "def transposeMatrix():\n",
    "    dim = int(input(\"Enter the number of equal rows and columns: \"))\n",
    "    print(\"Input Matrix: \")\n",
    "    matrix = []\n",
    "    for i in range(dim):\n",
    "        row = []\n",
    "        for j in range(dim):\n",
    "            row.append(int(input()))\n",
    "        matrix.append(row)\n",
    "    print(\"Transpose of Matrix: \")\n",
    "\n",
    "    \n",
    "    matrix_transpose = []\n",
    "    for i in range(dim):\n",
    "        row = []\n",
    "        for j in range(dim):\n",
    "            row.append(0)\n",
    "        matrix_transpose.append(row)\n",
    "\n",
    "    # changing the row to col and col to row\n",
    "    for i in range(dim):\n",
    "        for j in range(dim):\n",
    "            matrix_transpose[j][i] = matrix[i][j]\n",
    "\n",
    "    for x in matrix_transpose:\n",
    "        print(x)\n",
    "\n",
    "transposeMatrix()"
   ]
  },
  {
   "cell_type": "code",
   "execution_count": 94,
   "id": "f0070088-146a-4d13-9354-f2cd03985a76",
   "metadata": {},
   "outputs": [
    {
     "data": {
      "text/plain": [
       "[[1, 2, 3, 4], [1, 2, 3, 4], [1, 2, 3, 4], [1, 2, 3, 4]]"
      ]
     },
     "execution_count": 94,
     "metadata": {},
     "output_type": "execute_result"
    }
   ],
   "source": [
    "def transpose(matrix, n):\n",
    "    \n",
    "    m_transpose = [[0 for i in range(n)] for j in range(n)]\n",
    "    \n",
    "    for i in range(n):\n",
    "        for j in range(n):\n",
    "            m_transpose[j][i] = matrix[i][j]\n",
    "            \n",
    "    return m_transpose\n",
    "\n",
    "m = [[1, 1, 1, 1], \n",
    "     [2, 2, 2, 2], \n",
    "     [3, 3, 3, 3], \n",
    "     [4, 4, 4, 4]]\n",
    "n = 4\n",
    "transpose(m, n)"
   ]
  },
  {
   "cell_type": "code",
   "execution_count": null,
   "id": "99a06d14-0e75-41e1-b976-07d187b4b4df",
   "metadata": {},
   "outputs": [],
   "source": [
    "def transpose(matrix, n):\n",
    "    \n",
    "    m_transpose = [[0 for i in range(n)] for j in range(n)]\n",
    "    \n",
    "    for i in range(n):\n",
    "        for j in range(n):\n",
    "            m_transpose[j][i] = matrix[i][j]\n",
    "            \n",
    "    for row in m_transpose:\n",
    "        print(row)\n",
    "\n",
    "m = [[1, 1, 1, 1], \n",
    "     [2, 2, 2, 2], \n",
    "     [3, 3, 3, 3], \n",
    "     [4, 4, 4, 4]]\n",
    "n = 4\n",
    "transpose(m, n)"
   ]
  },
  {
   "cell_type": "code",
   "execution_count": null,
   "id": "14128a04-69f5-44fc-876f-a54d7b325cce",
   "metadata": {},
   "outputs": [],
   "source": []
  }
 ],
 "metadata": {
  "kernelspec": {
   "display_name": "Python 3 (ipykernel)",
   "language": "python",
   "name": "python3"
  },
  "language_info": {
   "codemirror_mode": {
    "name": "ipython",
    "version": 3
   },
   "file_extension": ".py",
   "mimetype": "text/x-python",
   "name": "python",
   "nbconvert_exporter": "python",
   "pygments_lexer": "ipython3",
   "version": "3.11.4"
  }
 },
 "nbformat": 4,
 "nbformat_minor": 5
}

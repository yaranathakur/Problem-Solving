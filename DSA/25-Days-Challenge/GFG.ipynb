{
 "cells": [
  {
   "cell_type": "markdown",
   "id": "639f7fe4-91af-4ee0-a62a-e1b82a6f4c68",
   "metadata": {},
   "source": [
    "# Given an array of size N-1 such that it only contains distinct integers in the range of 1 to N. Find the missing element."
   ]
  },
  {
   "cell_type": "code",
   "execution_count": null,
   "id": "9292def1-7851-416b-87c6-bd7e5873e63c",
   "metadata": {},
   "outputs": [],
   "source": [
    "# method 1\n",
    "def missingNumber():\n",
    "    len = int(input(\"Enter the length of array : \"))\n",
    "    array = list(map(int, input().split()))\n",
    "    for x in range(1, len + 1):\n",
    "        if x not in array:\n",
    "            print(f\"Missing number : {x}\")\n",
    " \n",
    "missingNumber()"
   ]
  },
  {
   "cell_type": "code",
   "execution_count": null,
   "id": "877ec680-6980-469a-88bb-b6994d3bf843",
   "metadata": {},
   "outputs": [],
   "source": [
    "# method 2\n",
    "def missingNumber():\n",
    "    len = int(input(\"Enter the length of array : \"))\n",
    "    array = list(map(int, input().split()))\n",
    "    return sum(range(len + 1)) - sum(array)\n",
    "\n",
    "missingNumber()"
   ]
  },
  {
   "cell_type": "markdown",
   "id": "7f69a84c-d10e-428e-a598-42869cbe1b1a",
   "metadata": {},
   "source": [
    "# Given a sorted array arr[] of distinct integers. Sort the array into a wave-like array(In Place)."
   ]
  },
  {
   "cell_type": "code",
   "execution_count": 3,
   "id": "0fffb531-9dea-4672-a1a5-dc306fafdd7b",
   "metadata": {},
   "outputs": [
    {
     "name": "stdin",
     "output_type": "stream",
     "text": [
      "Enter the length of array:  4\n"
     ]
    },
    {
     "name": "stdout",
     "output_type": "stream",
     "text": [
      "Enter the element of array: \n"
     ]
    },
    {
     "name": "stdin",
     "output_type": "stream",
     "text": [
      " 1 2 3 4\n"
     ]
    },
    {
     "data": {
      "text/plain": [
       "[2, 1, 4, 3]"
      ]
     },
     "execution_count": 3,
     "metadata": {},
     "output_type": "execute_result"
    }
   ],
   "source": [
    "def  convertToWave():\n",
    "    # taking user input length of array\n",
    "    len = int(input(\"Enter the length of array: \"))\n",
    "    # taking user input element of array\n",
    "    print(\"Enter the element of array: \")\n",
    "    array = list(map(int, input().split()))\n",
    "\n",
    "    # using for loop to iterate over the elemnts in step of 2\n",
    "    for x in range(0, len - 1, 2):\n",
    "        array[x], array[x + 1] = array[x + 1], array[x]\n",
    "    return array\n",
    "\n",
    "convertToWave()"
   ]
  },
  {
   "cell_type": "markdown",
   "id": "cbfbd329-6722-408d-8a30-b36e7dca0676",
   "metadata": {},
   "source": [
    "# Given an array arr of n elements that is first strictly increasing and then maybe strictly decreasing, find the maximum element in the array. \n",
    "Note: If the array is increasing then just print the last element will be the maximum value."
   ]
  },
  {
   "cell_type": "code",
   "execution_count": 3,
   "id": "81f164bc-42b5-4561-ba22-995e978b677c",
   "metadata": {},
   "outputs": [
    {
     "name": "stdin",
     "output_type": "stream",
     "text": [
      "Enter the length of array:  6\n"
     ]
    },
    {
     "name": "stdout",
     "output_type": "stream",
     "text": [
      "Enter the element in Strictly Increasing and Strictly Decreasing or Increasing: \n"
     ]
    },
    {
     "name": "stdin",
     "output_type": "stream",
     "text": [
      " 1 2 6 7 4 3\n"
     ]
    },
    {
     "data": {
      "text/plain": [
       "7"
      ]
     },
     "execution_count": 3,
     "metadata": {},
     "output_type": "execute_result"
    }
   ],
   "source": [
    "# method 1 (O(n))\n",
    "def findMaximum():\n",
    "    len = int(input(\"Enter the length of array: \"))\n",
    "    print(\"Enter the element in Strictly Increasing and Strictly Decreasing or Increasing: \")\n",
    "    array = list(map(int, input().split()))\n",
    "    return max(array)\n",
    "\n",
    "findMaximum()"
   ]
  },
  {
   "cell_type": "code",
   "execution_count": 5,
   "id": "04fe426f-2849-4c03-8271-16903ef9923c",
   "metadata": {},
   "outputs": [
    {
     "name": "stdin",
     "output_type": "stream",
     "text": [
      "Enter the length of array:  6\n"
     ]
    },
    {
     "name": "stdout",
     "output_type": "stream",
     "text": [
      "Enter the element in Strictly Increasing and Strictly Decreasing or Increasing: \n"
     ]
    },
    {
     "name": "stdin",
     "output_type": "stream",
     "text": [
      " 1 2 5 6 7 4\n"
     ]
    },
    {
     "data": {
      "text/plain": [
       "7"
      ]
     },
     "execution_count": 5,
     "metadata": {},
     "output_type": "execute_result"
    }
   ],
   "source": [
    "# method 2 (O(nlogn))\n",
    "def findMaximum():\n",
    "    len = int(input(\"Enter the length of array: \"))\n",
    "    print(\"Enter the element in Strictly Increasing and Strictly Decreasing or Increasing: \")\n",
    "    array = list(map(int, input().split()))\n",
    "    array = sorted(array)\n",
    "    return array[-1]\n",
    "\n",
    "findMaximum()"
   ]
  },
  {
   "cell_type": "code",
   "execution_count": null,
   "id": "c9d19cc9-e936-45cb-bac9-abb9e2324250",
   "metadata": {},
   "outputs": [],
   "source": [
    "help(list)"
   ]
  }
 ],
 "metadata": {
  "kernelspec": {
   "display_name": "Python 3 (ipykernel)",
   "language": "python",
   "name": "python3"
  },
  "language_info": {
   "codemirror_mode": {
    "name": "ipython",
    "version": 3
   },
   "file_extension": ".py",
   "mimetype": "text/x-python",
   "name": "python",
   "nbconvert_exporter": "python",
   "pygments_lexer": "ipython3",
   "version": "3.11.4"
  }
 },
 "nbformat": 4,
 "nbformat_minor": 5
}
